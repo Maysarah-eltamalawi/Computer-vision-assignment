{
  "cells": [
    {
      "cell_type": "markdown",
      "metadata": {
        "id": "view-in-github",
        "colab_type": "text"
      },
      "source": [
        "<a href=\"https://colab.research.google.com/github/Maysarah-eltamalawi/Computer-vision-assignment/blob/main/Genetic_algorithm_optimization.ipynb\" target=\"_parent\"><img src=\"https://colab.research.google.com/assets/colab-badge.svg\" alt=\"Open In Colab\"/></a>"
      ]
    },
    {
      "cell_type": "code",
      "execution_count": null,
      "metadata": {
        "id": "RJh42qwGPIg0"
      },
      "outputs": [],
      "source": [
        "#Please scroll through and make sure all libraries are available, especially pandas and panda3d, as the runtime is about 15 minutes\n",
        "#For the visualization, the finish line is straight ahead, just keep moving forward!\n",
        "import numpy as np\n",
        "import random as rd\n",
        "import math\n",
        "import openpyxl\n",
        "from pathlib import Path\n",
        "import matplotlib.pyplot as plt\n",
        "no_Dv = 3\n",
        "n_pop = 100\n",
        "ub = np.array ([200,150,100])\n",
        "lb = np.array ([10,10,10])\n",
        "BestSolution = np.array ([0,0,0])\n",
        "visual = np.array([0,0,0])"
      ]
    },
    {
      "cell_type": "code",
      "execution_count": null,
      "metadata": {
        "id": "PjfIh7vUPOBj"
      },
      "outputs": [],
      "source": [
        "#from google.colab import drive\n",
        "#drive.mount('/content/drive')"
      ]
    },
    {
      "cell_type": "code",
      "execution_count": null,
      "metadata": {
        "colab": {
          "base_uri": "https://localhost:8080/",
          "height": 363
        },
        "id": "gxVzraJ1PQzg",
        "outputId": "645a7c4d-aa0c-4698-e4b5-8ee51f1130dc"
      },
      "outputs": [
        {
          "data": {
            "text/html": [
              "<div>\n",
              "<style scoped>\n",
              "    .dataframe tbody tr th:only-of-type {\n",
              "        vertical-align: middle;\n",
              "    }\n",
              "\n",
              "    .dataframe tbody tr th {\n",
              "        vertical-align: top;\n",
              "    }\n",
              "\n",
              "    .dataframe thead th {\n",
              "        text-align: right;\n",
              "    }\n",
              "</style>\n",
              "<table border=\"1\" class=\"dataframe\">\n",
              "  <thead>\n",
              "    <tr style=\"text-align: right;\">\n",
              "      <th></th>\n",
              "      <th>Car.ax</th>\n",
              "      <th>Car.ay</th>\n",
              "      <th>Car.v</th>\n",
              "      <th>Time</th>\n",
              "      <th>SOC</th>\n",
              "      <th>A</th>\n",
              "    </tr>\n",
              "  </thead>\n",
              "  <tbody>\n",
              "    <tr>\n",
              "      <th>0</th>\n",
              "      <td>-0.152787</td>\n",
              "      <td>-0.135081</td>\n",
              "      <td>0.000203</td>\n",
              "      <td>0.001</td>\n",
              "      <td>0.999990</td>\n",
              "      <td>0.000203</td>\n",
              "    </tr>\n",
              "    <tr>\n",
              "      <th>1</th>\n",
              "      <td>-0.042909</td>\n",
              "      <td>-0.013671</td>\n",
              "      <td>0.010553</td>\n",
              "      <td>0.101</td>\n",
              "      <td>0.998991</td>\n",
              "      <td>0.010350</td>\n",
              "    </tr>\n",
              "    <tr>\n",
              "      <th>2</th>\n",
              "      <td>-0.013100</td>\n",
              "      <td>0.022345</td>\n",
              "      <td>0.012579</td>\n",
              "      <td>0.201</td>\n",
              "      <td>0.997992</td>\n",
              "      <td>0.002026</td>\n",
              "    </tr>\n",
              "    <tr>\n",
              "      <th>3</th>\n",
              "      <td>-0.003713</td>\n",
              "      <td>0.027647</td>\n",
              "      <td>0.012644</td>\n",
              "      <td>0.301</td>\n",
              "      <td>0.996995</td>\n",
              "      <td>0.000064</td>\n",
              "    </tr>\n",
              "    <tr>\n",
              "      <th>4</th>\n",
              "      <td>-0.002412</td>\n",
              "      <td>0.009769</td>\n",
              "      <td>0.012840</td>\n",
              "      <td>0.401</td>\n",
              "      <td>0.995998</td>\n",
              "      <td>0.000196</td>\n",
              "    </tr>\n",
              "    <tr>\n",
              "      <th>5</th>\n",
              "      <td>-0.001906</td>\n",
              "      <td>-0.004807</td>\n",
              "      <td>0.013053</td>\n",
              "      <td>0.501</td>\n",
              "      <td>0.995003</td>\n",
              "      <td>0.000213</td>\n",
              "    </tr>\n",
              "    <tr>\n",
              "      <th>6</th>\n",
              "      <td>-0.001871</td>\n",
              "      <td>-0.005577</td>\n",
              "      <td>0.013232</td>\n",
              "      <td>0.601</td>\n",
              "      <td>0.994008</td>\n",
              "      <td>0.000179</td>\n",
              "    </tr>\n",
              "    <tr>\n",
              "      <th>7</th>\n",
              "      <td>-0.001895</td>\n",
              "      <td>0.005298</td>\n",
              "      <td>0.013421</td>\n",
              "      <td>0.701</td>\n",
              "      <td>0.993015</td>\n",
              "      <td>0.000189</td>\n",
              "    </tr>\n",
              "    <tr>\n",
              "      <th>8</th>\n",
              "      <td>-0.001916</td>\n",
              "      <td>0.013552</td>\n",
              "      <td>0.013631</td>\n",
              "      <td>0.801</td>\n",
              "      <td>0.992022</td>\n",
              "      <td>0.000210</td>\n",
              "    </tr>\n",
              "    <tr>\n",
              "      <th>9</th>\n",
              "      <td>-0.001924</td>\n",
              "      <td>0.013407</td>\n",
              "      <td>0.013970</td>\n",
              "      <td>0.901</td>\n",
              "      <td>0.991030</td>\n",
              "      <td>0.000339</td>\n",
              "    </tr>\n",
              "  </tbody>\n",
              "</table>\n",
              "</div>"
            ],
            "text/plain": [
              "     Car.ax    Car.ay     Car.v   Time       SOC         A\n",
              "0 -0.152787 -0.135081  0.000203  0.001  0.999990  0.000203\n",
              "1 -0.042909 -0.013671  0.010553  0.101  0.998991  0.010350\n",
              "2 -0.013100  0.022345  0.012579  0.201  0.997992  0.002026\n",
              "3 -0.003713  0.027647  0.012644  0.301  0.996995  0.000064\n",
              "4 -0.002412  0.009769  0.012840  0.401  0.995998  0.000196\n",
              "5 -0.001906 -0.004807  0.013053  0.501  0.995003  0.000213\n",
              "6 -0.001871 -0.005577  0.013232  0.601  0.994008  0.000179\n",
              "7 -0.001895  0.005298  0.013421  0.701  0.993015  0.000189\n",
              "8 -0.001916  0.013552  0.013631  0.801  0.992022  0.000210\n",
              "9 -0.001924  0.013407  0.013970  0.901  0.991030  0.000339"
            ]
          },
          "execution_count": 3,
          "metadata": {},
          "output_type": "execute_result"
        }
      ],
      "source": [
        "import pandas as pd\n",
        "# Load data\n",
        "driving_cycle = pd.read_excel('DriveCycle.xlsx') #Please insert the file path\n",
        "driving_cycle.head(10)"
      ]
    },
    {
      "cell_type": "code",
      "execution_count": null,
      "metadata": {
        "id": "HxKDTR22Fk_Z"
      },
      "outputs": [],
      "source": [
        "def maxP():\n",
        "    #The following section calculates the largest possible power required within the driving cycle\n",
        "    #It is used to constrain the decision variables\n",
        "    j=0\n",
        "    vTemp=0\n",
        "    aTemp=0\n",
        "    while j <2000:\n",
        "        if vTemp<driving_cycle['Car.v'][j]:\n",
        "            vTemp= driving_cycle['Car.v'][j]\n",
        "\n",
        "        A=math.sqrt(driving_cycle['Car.ax'][j]**2 + driving_cycle['Car.ay'][j]**2)\n",
        "        if aTemp<A:\n",
        "            aTemp= A\n",
        "        j=j+1\n",
        "\n",
        "    Ptotal1DC= (vTemp/3600*0.85)*(1400*9.81*(0.0076+0.000056*vTemp)+(0.47*3.3*(vTemp**2))/21.15)\n",
        "    Ptotal2DC= (vTemp/3600*0.85)*(1400*9.81*((0.0076+0.000056*vTemp)*math.cos(3*math.pi/180)+math.sin(3*math.pi/180))+(0.47*3.3*vTemp**2)/21.15)\n",
        "    Ptotal3DC= (vTemp/3600*0.85)*(1400*9.81*(0.0076+0.000056*vTemp)+((0.47*3.3*(vTemp**2))/21.15)+(1400*0.07*aTemp)/3.6)\n",
        "    PmaxDC= max(Ptotal1DC,Ptotal2DC,Ptotal3DC)\n",
        "    return PmaxDC"
      ]
    },
    {
      "cell_type": "code",
      "execution_count": null,
      "metadata": {
        "id": "Awoj_fFVPSdN"
      },
      "outputs": [],
      "source": [
        "def obj(curr):\n",
        "#han7ot el DVs fe array\n",
        "\n",
        "    i = 2\n",
        "    while i<2000 :\n",
        "        Pe=curr[0]\n",
        "        Pm=curr[1]\n",
        "        Q0=curr[2]\n",
        "        totalDistance = 5000\n",
        "        SOC = (10**-2)*driving_cycle['SOC'][i]\n",
        "        V= driving_cycle['Car.v'][i]\n",
        "        G=3*math.pi/180\n",
        "        mf=0\n",
        "        A=math.sqrt(driving_cycle['Car.ax'][i]**2+driving_cycle['Car.ay'][i]**2)\n",
        "        time = driving_cycle['Time'][i]\n",
        "\n",
        "####\n",
        "\n",
        "        OCV=2.85+(4.8*SOC)-(17.8*(SOC)**2)+(38.59*(SOC)**3)+(4.91*(SOC)**4)-(210.52*(SOC)**5)+(433.98*(SOC)**6)-(368.45* (SOC)**7)+(115.81*(SOC)**8)\n",
        "        FCe=((1-SOC)**2*Q0*3600*OCV)/279673588*0.85*0.85\n",
        "        DistE= (Q0/FCe)*10**-1\n",
        "\n",
        "#####\n",
        "\n",
        "        Ptotal1= (V/3600*0.85)*(1400*9.81*(0.0076+0.000056*V)+(0.47*3.3*V**2)/21.15)\n",
        "        Ptotal2= (V/3600*0.85)*(1400*9.81*((0.0076+0.000056*V)*(math.cos(G))+math.sin(G))+(0.47*3.3*V**2)/21.15)\n",
        "        Ptotal3= (V/3600*0.85)*(1400*9.81*(0.0076+0.000056*V)+(0.47*3.3*V**2)/21.15+1400*0.07*(A/3.6))\n",
        "        Pinst= max(Ptotal1,Ptotal2,Ptotal3)\n",
        "        mf= mf + (Pinst*225)/367.1*0.84*9.81\n",
        "        i=i+1\n",
        "\n",
        "    #Evaluating Objective Functions post drive cycle\n",
        "    #Mapping individual functions between 0-1 results in a 0-3 ranged Total objective function for fair weights\n",
        "    Totalmf=mf/time\n",
        "    TotalCost=(12*Pe+424)+(14*Pm+190)+(8*10*Q0+650)\n",
        "    TCostMapped= (TotalCost - 2324) / 11440\n",
        "    UF= DistE/totalDistance\n",
        "    FC= (Totalmf+FCe)/((10**-5)*0.84*totalDistance)\n",
        "    FCMapped= (FC - 1.7) / 0.6\n",
        "    visual2=[FC,UF,TotalCost]\n",
        "    Total_objective= FCMapped + TCostMapped + (1/UF)\n",
        "    return visual2,Total_objective"
      ]
    },
    {
      "cell_type": "code",
      "execution_count": null,
      "metadata": {
        "id": "u21Cjw6SPWoh"
      },
      "outputs": [],
      "source": [
        "def is_feasible(curr):\n",
        "  x = curr[0] < ub[0]\n",
        "  y= curr[1] < ub[1]\n",
        "  w= curr[0]+curr[1] > maxP()*2 #Using a safety margin by doubling the maximum power required by the drive cycle\n",
        "  z = x & y & w\n",
        "  return z"
      ]
    },
    {
      "cell_type": "code",
      "execution_count": null,
      "metadata": {
        "id": "MQX-OuDSPZKs"
      },
      "outputs": [],
      "source": [
        "def init_random_solution():\n",
        "  x = np.random.rand(no_Dv) * (ub - lb) + lb\n",
        "  if not(is_feasible(x)):\n",
        "    x = init_random_solution();\n",
        "  return x"
      ]
    },
    {
      "cell_type": "code",
      "execution_count": null,
      "metadata": {
        "id": "B0ozCD8Whir1"
      },
      "outputs": [],
      "source": [
        "def initRandomPopulation():\n",
        "   Rd_pop = []\n",
        "   Rdpop_fvalues = []\n",
        "   best_sol = []\n",
        "   best_fvalues = []\n",
        "   for i in range(n_pop):\n",
        "       new_sol = init_random_solution()\n",
        "       visual,new_objvalue = obj(new_sol)\n",
        "       Rd_pop.append(new_sol)\n",
        "       Rdpop_fvalues.append(new_objvalue)\n",
        "       if len(best_sol) == 0:\n",
        "          best_sol.append(new_sol)\n",
        "          best_fvalues.append(new_objvalue)\n",
        "       elif (new_objvalue < best_fvalues[0]):\n",
        "          best_sol[0], best_fvalues[0] = new_sol, new_objvalue\n",
        "   return Rd_pop, Rdpop_fvalues, best_sol, best_fvalues"
      ]
    },
    {
      "cell_type": "code",
      "execution_count": null,
      "metadata": {
        "colab": {
          "base_uri": "https://localhost:8080/"
        },
        "id": "Lz8tOoa92aOx",
        "outputId": "9db69dc3-fa53-4ebe-9489-77d3eafb2737"
      },
      "outputs": [
        {
          "data": {
            "text/plain": [
              "array([1, 2, 0, 3], dtype=int64)"
            ]
          },
          "execution_count": 9,
          "metadata": {},
          "output_type": "execute_result"
        }
      ],
      "source": [
        "omar = [1000,50,500,6065]\n",
        "np.argsort(omar)"
      ]
    },
    {
      "cell_type": "code",
      "execution_count": null,
      "metadata": {
        "id": "_x68PxeN1IMD"
      },
      "outputs": [],
      "source": [
        "def selectParentsC(n_pop, numParents):\n",
        "  parents_idx = np.random.choice(n_pop, numParents, replace=False)\n",
        "  return parents_idx"
      ]
    },
    {
      "cell_type": "code",
      "execution_count": null,
      "metadata": {
        "id": "aonqN8zGKVoZ"
      },
      "outputs": [],
      "source": [
        "def selectParentsM(n_pop, numParents, gen_fvalues):\n",
        "   parents_idx = np.argsort(gen_fvalues)[n_pop-numParents:]\n",
        "   return parents_idx\n",
        ""
      ]
    },
    {
      "cell_type": "code",
      "execution_count": null,
      "metadata": {
        "id": "O12cEJYakjf8"
      },
      "outputs": [],
      "source": [
        "def selectSurvivors(pop_obj, numSurvivors):\n",
        "        survivors_idx = np.argsort(pop_obj)[:numSurvivors]\n",
        "        return survivors_idx"
      ]
    },
    {
      "cell_type": "code",
      "execution_count": null,
      "metadata": {
        "id": "zGaOb21mvRP2"
      },
      "outputs": [],
      "source": [
        "def mutation(pop, p_idx):\n",
        "    # Random noise\n",
        "    r = np.random.rand(no_Dv)\n",
        "    child = pop[p_idx] + r * (ub - pop[p_idx]) + (1 - r) * (lb - pop[p_idx])\n",
        "    if not(is_feasible(child)):\n",
        "      child = mutation(pop, p_idx)\n",
        "    return child"
      ]
    },
    {
      "cell_type": "code",
      "execution_count": null,
      "metadata": {
        "id": "U7tdd7QM0Kte"
      },
      "outputs": [],
      "source": [
        "def crossover(pop, p1_idx, p2_idx):\n",
        "        # Whole Arithmetic Combination\n",
        "        alpha = np.random.rand() * (0.9 - 0.7) + 0.7\n",
        "        child1 = alpha * pop[p1_idx] + (1 - alpha) * pop[p2_idx]\n",
        "        child2 = (1 - alpha) * pop[p1_idx] + alpha * pop[p2_idx]\n",
        "        return child1, child2"
      ]
    },
    {
      "cell_type": "code",
      "execution_count": null,
      "metadata": {
        "id": "fqwE5f1z3mU5"
      },
      "outputs": [],
      "source": [
        "def GA(n_pop = 100, max_iter = 100, p_elite = 0.1, p_crossover = 0.6, p_mutation = 0.3):\n",
        "    pop,fvalues,bestsol, best_fvalues = initRandomPopulation()\n",
        "    print(\"Best Initial Solution \", best_fvalues[0])\n",
        "    n_crossovers = int(np.ceil(p_crossover * n_pop / 2))\n",
        "    n_mutations = int(p_mutation * n_pop)\n",
        "    n_elite = int(p_elite * n_pop)\n",
        "    n_survivors = n_pop - int(p_crossover*n_pop) - n_mutations - n_elite\n",
        "    for _ in range(max_iter):\n",
        "        # Crossover and Parents Selection\n",
        "        parents_idx = selectParentsC(n_pop, numParents = n_crossovers*2)\n",
        "        new_pop = []\n",
        "        new_fvalues = []\n",
        "        for i in range(0, n_crossovers*2, 2):\n",
        "            [ch1, ch2] = crossover(pop, parents_idx[i], parents_idx[i+1])\n",
        "            new_pop.append(ch1)\n",
        "            visual,NObj=obj(ch1)\n",
        "            new_fvalues.append(NObj)\n",
        "            if len(new_pop) == int(p_crossover * n_pop):\n",
        "                break\n",
        "            new_pop.append(ch2)\n",
        "            visual,NObj2=obj(ch2)\n",
        "            new_fvalues.append(NObj2)\n",
        "\n",
        "        # Mutation and Parents Selection\n",
        "        parents_idx = selectParentsM(n_pop,n_mutations, fvalues)\n",
        "        for i in range(n_mutations):\n",
        "            ch = mutation(pop,parents_idx[i])\n",
        "            new_pop.append(ch)\n",
        "            visual,NobjCH=obj(ch)\n",
        "            new_fvalues.append(NobjCH)\n",
        "\n",
        "        # Elite Members\n",
        "        # elite_idx = selectSurvivors(n_pop, numSurvivors=n_elite)\n",
        "        elite_idx = np.argsort(fvalues)[:n_elite]\n",
        "        for i in range(n_elite):\n",
        "            new_pop.append(pop[elite_idx[i]])\n",
        "            new_fvalues.append(fvalues[elite_idx[i]])\n",
        "\n",
        "        # Survivors (if any)\n",
        "        survivors_idx = selectSurvivors(fvalues, n_survivors)\n",
        "        for i in range(n_survivors):\n",
        "            new_pop.append(pop[survivors_idx[i]])\n",
        "            new_fvalues.append(fvalues[survivors_idx[i]])\n",
        "        assert(len(new_pop) == n_pop)\n",
        "        assert(len(new_fvalues) == n_pop)\n",
        "        pop = new_pop\n",
        "        fvalues = new_fvalues\n",
        "\n",
        "        # update best solution reached so far\n",
        "        best_idx = np.argmin(fvalues)\n",
        "        if fvalues[best_idx] < best_fvalues[-1]:\n",
        "            bestsol.append(pop[best_idx])\n",
        "            best_fvalues.append(fvalues[best_idx])\n",
        "        else:\n",
        "            bestsol.append(bestsol[-1])\n",
        "            best_fvalues.append(best_fvalues[-1])\n",
        "\n",
        "        print(\"Iteration:\",format(_))\n",
        "        print(\"Best:\",format(round(best_fvalues[-1],5)))\n",
        "\n",
        "    return visual, bestsol,best_fvalues"
      ]
    },
    {
      "cell_type": "code",
      "execution_count": null,
      "metadata": {
        "colab": {
          "base_uri": "https://localhost:8080/"
        },
        "id": "ufJbdt-klKiK",
        "outputId": "240b6484-5a51-4ffc-f322-338ffc2b8689"
      },
      "outputs": [
        {
          "name": "stdout",
          "output_type": "stream",
          "text": [
            "Best Initial Solution  1.8678778640344023\n",
            "Iteration: 0\n",
            "Best: 1.86788\n",
            "Iteration: 1\n",
            "Best: 1.86788\n",
            "Iteration: 2\n",
            "Best: 1.86788\n",
            "Iteration: 3\n",
            "Best: 1.86788\n",
            "Iteration: 4\n",
            "Best: 1.86788\n",
            "Iteration: 5\n",
            "Best: 1.86788\n",
            "Iteration: 6\n",
            "Best: 1.86788\n",
            "Iteration: 7\n",
            "Best: 1.86788\n",
            "Iteration: 8\n",
            "Best: 1.86788\n",
            "Iteration: 9\n",
            "Best: 1.83852\n",
            "Iteration: 10\n",
            "Best: 1.83852\n",
            "Iteration: 11\n",
            "Best: 1.83852\n",
            "Iteration: 12\n",
            "Best: 1.83852\n",
            "Iteration: 13\n",
            "Best: 1.83852\n",
            "Iteration: 14\n",
            "Best: 1.83852\n",
            "Iteration: 15\n",
            "Best: 1.83852\n",
            "Iteration: 16\n",
            "Best: 1.83852\n",
            "Iteration: 17\n",
            "Best: 1.83852\n",
            "Iteration: 18\n",
            "Best: 1.83852\n",
            "Iteration: 19\n",
            "Best: 1.83852\n",
            "Iteration: 20\n",
            "Best: 1.83852\n",
            "Iteration: 21\n",
            "Best: 1.83852\n",
            "Iteration: 22\n",
            "Best: 1.83852\n",
            "Iteration: 23\n",
            "Best: 1.83852\n",
            "Iteration: 24\n",
            "Best: 1.83852\n",
            "Iteration: 25\n",
            "Best: 1.83852\n",
            "Iteration: 26\n",
            "Best: 1.83852\n",
            "Iteration: 27\n",
            "Best: 1.83852\n",
            "Iteration: 28\n",
            "Best: 1.83852\n",
            "Iteration: 29\n",
            "Best: 1.83852\n",
            "Iteration: 30\n",
            "Best: 1.83852\n",
            "Iteration: 31\n",
            "Best: 1.83852\n",
            "Iteration: 32\n",
            "Best: 1.83852\n",
            "Iteration: 33\n",
            "Best: 1.83852\n",
            "Iteration: 34\n",
            "Best: 1.83852\n",
            "Iteration: 35\n",
            "Best: 1.83852\n",
            "Iteration: 36\n",
            "Best: 1.83852\n",
            "Iteration: 37\n",
            "Best: 1.83852\n",
            "Iteration: 38\n",
            "Best: 1.83852\n",
            "Iteration: 39\n",
            "Best: 1.83852\n",
            "Iteration: 40\n",
            "Best: 1.83852\n",
            "Iteration: 41\n",
            "Best: 1.83852\n",
            "Iteration: 42\n",
            "Best: 1.83852\n",
            "Iteration: 43\n",
            "Best: 1.83852\n",
            "Iteration: 44\n",
            "Best: 1.83852\n",
            "Iteration: 45\n",
            "Best: 1.83852\n",
            "Iteration: 46\n",
            "Best: 1.83852\n",
            "Iteration: 47\n",
            "Best: 1.83852\n",
            "Iteration: 48\n",
            "Best: 1.83852\n",
            "Iteration: 49\n",
            "Best: 1.83852\n",
            "Iteration: 50\n",
            "Best: 1.83852\n",
            "Iteration: 51\n",
            "Best: 1.83852\n",
            "Iteration: 52\n",
            "Best: 1.83852\n",
            "Iteration: 53\n",
            "Best: 1.83852\n",
            "Iteration: 54\n",
            "Best: 1.83852\n",
            "Iteration: 55\n",
            "Best: 1.83852\n",
            "Iteration: 56\n",
            "Best: 1.83852\n",
            "Iteration: 57\n",
            "Best: 1.83852\n",
            "Iteration: 58\n",
            "Best: 1.83852\n",
            "Iteration: 59\n",
            "Best: 1.83852\n",
            "Iteration: 60\n",
            "Best: 1.83852\n",
            "Iteration: 61\n",
            "Best: 1.83852\n",
            "Iteration: 62\n",
            "Best: 1.83852\n",
            "Iteration: 63\n",
            "Best: 1.83852\n",
            "Iteration: 64\n",
            "Best: 1.83852\n",
            "Iteration: 65\n",
            "Best: 1.82441\n",
            "Iteration: 66\n",
            "Best: 1.82441\n",
            "Iteration: 67\n",
            "Best: 1.82441\n",
            "Iteration: 68\n",
            "Best: 1.82441\n",
            "Iteration: 69\n",
            "Best: 1.82441\n",
            "Iteration: 70\n",
            "Best: 1.82441\n",
            "Iteration: 71\n",
            "Best: 1.82441\n",
            "Iteration: 72\n",
            "Best: 1.82441\n",
            "Iteration: 73\n",
            "Best: 1.82441\n",
            "Iteration: 74\n",
            "Best: 1.82441\n",
            "Iteration: 75\n",
            "Best: 1.82441\n",
            "Iteration: 76\n",
            "Best: 1.82441\n",
            "Iteration: 77\n",
            "Best: 1.82441\n",
            "Iteration: 78\n",
            "Best: 1.82441\n",
            "Iteration: 79\n",
            "Best: 1.7995\n",
            "Iteration: 80\n",
            "Best: 1.7995\n",
            "Iteration: 81\n",
            "Best: 1.7995\n",
            "Iteration: 82\n",
            "Best: 1.7995\n",
            "Iteration: 83\n",
            "Best: 1.7995\n",
            "Iteration: 84\n",
            "Best: 1.7995\n",
            "Iteration: 85\n",
            "Best: 1.7995\n",
            "Iteration: 86\n",
            "Best: 1.7995\n",
            "Iteration: 87\n",
            "Best: 1.7995\n",
            "Iteration: 88\n",
            "Best: 1.7995\n",
            "Iteration: 89\n",
            "Best: 1.7995\n",
            "Iteration: 90\n",
            "Best: 1.7995\n",
            "Iteration: 91\n",
            "Best: 1.7995\n",
            "Iteration: 92\n",
            "Best: 1.7995\n",
            "Iteration: 93\n",
            "Best: 1.7995\n",
            "Iteration: 94\n",
            "Best: 1.7995\n",
            "Iteration: 95\n",
            "Best: 1.7995\n",
            "Iteration: 96\n",
            "Best: 1.7995\n",
            "Iteration: 97\n",
            "Best: 1.7995\n",
            "Iteration: 98\n",
            "Best: 1.7995\n",
            "Iteration: 99\n",
            "Best: 1.7995\n"
          ]
        }
      ],
      "source": [
        "visual, best_array, best_objective=GA()\n",
        "BestSolution = best_array[-1]"
      ]
    },
    {
      "cell_type": "code",
      "execution_count": null,
      "metadata": {
        "colab": {
          "base_uri": "https://localhost:8080/"
        },
        "id": "ul5O02YLvVRw",
        "outputId": "78b7e265-a644-44fb-b961-70d6bbdeabdf"
      },
      "outputs": [
        {
          "name": "stdout",
          "output_type": "stream",
          "text": [
            "1.7994986132624946\n",
            "[31.94522536 12.81054799 10.51721128]\n"
          ]
        }
      ],
      "source": [
        "print(best_objective[-1])\n",
        "print(best_array[-1])"
      ]
    },
    {
      "cell_type": "code",
      "execution_count": null,
      "metadata": {
        "colab": {
          "base_uri": "https://localhost:8080/",
          "height": 279
        },
        "id": "cqnwU0O9ozV_",
        "outputId": "1c25ba7d-9aae-4ada-ec19-95daefe49026"
      },
      "outputs": [
        {
          "data": {
            "image/png": "[encoded data removed]",
            "text/plain": [
              "<Figure size 640x480 with 1 Axes>"
            ]
          },
          "metadata": {},
          "output_type": "display_data"
        }
      ],
      "source": [
        "import matplotlib.pyplot as plt\n",
        "plt.plot(best_objective)\n",
        "plt.ylabel('Best objective value GA')\n",
        "plt.xlabel('Number of iterations')\n",
        "plt.show()"
      ]
    },
    {
      "cell_type": "code",
      "execution_count": null,
      "metadata": {
        "id": "hv4qBJhMvC7P"
      },
      "outputs": [],
      "source": [
        "#The following is the visualization code\n",
        "#You will be simulating a drive cycle to test out the algorithm's proposed solution\n",
        "#Once you reach the finish line, your data analysis will be complete\n",
        "\n",
        "from direct.showbase.ShowBase import ShowBase\n",
        "from panda3d.core import *\n",
        "from direct.gui.OnscreenText import OnscreenText\n",
        "from direct.actor.Actor import Actor\n",
        "import random\n",
        "import sys\n",
        "import os\n",
        "import math\n",
        "\n",
        "conf = \"\"\"\"\n",
        "win-size 1280 720\n",
        "window-title My Game\n",
        "show-frame-rate-meter True\"\"\""
      ]
    },
    {
      "cell_type": "code",
      "execution_count": null,
      "metadata": {
        "id": "L2Z7TtlqFk_e"
      },
      "outputs": [],
      "source": [
        "#Game Instructions\n",
        "def addInstructions(pos, msg):\n",
        "    return OnscreenText(text=msg, style=1, fg=(1, 1, 1, 1), scale=.05,\n",
        "                        shadow=(0, 0, 0, 1), parent=base.a2dTopRight,\n",
        "                        pos=(-0.05, -pos - 0.05), align=TextNode.ARight)"
      ]
    },
    {
      "cell_type": "code",
      "execution_count": null,
      "metadata": {
        "id": "iHKZtSF4Fk_e"
      },
      "outputs": [],
      "source": [
        "def addTitle(text):\n",
        "    return OnscreenText(text=text, style=1, fg=(1, 1, 1, 1), scale=.07,\n",
        "                        parent=base.a2dTopLeft, align=TextNode.ALeft,\n",
        "                        pos=(0, -0.09), shadow=(0, 0, 0, 1))"
      ]
    },
    {
      "cell_type": "code",
      "execution_count": null,
      "metadata": {
        "id": "7GEKrZQnFk_f"
      },
      "outputs": [],
      "source": [
        "class Visualization(ShowBase):\n",
        "    # Records the state of the arrow keys\n",
        "    def setKey(self, key, value):\n",
        "        self.keyMap[key] = value\n",
        "\n",
        "    def __init__(self):\n",
        "        ShowBase.__init__(self)\n",
        "        self.win.setClearColor((0, 0, 0, 1))\n",
        "        self.keyMap = {\n",
        "            \"left\": 0, \"right\": 0, \"forward\": 0, \"down\": 0, \"cam-left\": 0, \"cam-right\": 0}\n",
        "\n",
        "        self.title = addTitle(\n",
        "            \"Please Advance Forward to the Finish Line\")\n",
        "        self.inst1 = addInstructions(0.12, \"[Down Arrow]: Reverse\")\n",
        "        self.inst2 = addInstructions(0.18, \"[Left Arrow]: Rotate Left\")\n",
        "        self.inst3 = addInstructions(0.24, \"[Right Arrow]: Rotate Right\")\n",
        "        self.inst4 = addInstructions(0.06, \"[Up Arrow]: Run Forward\")\n",
        "\n",
        "        self.environ = loader.loadModel(\"myModels/city/scene.gltf\") #Edit path if needed\n",
        "        self.environ.setH(90)\n",
        "        self.environ.setPos(2500,16700,-180)\n",
        "        self.environ.setScale(0.35,0.35,0.35)\n",
        "        self.environ.reparentTo(render)\n",
        "\n",
        "        self.environ2 = loader.loadModel(\"myModels/city2/scene.gltf\") #Edit path if needed\n",
        "        self.environ2.setPos(0,2700,-170)\n",
        "        self.environ2.setScale(1.3,1.3,1.3)\n",
        "        self.environ2.reparentTo(render)\n",
        "\n",
        "        self.environ3 = loader.loadModel(\"myModels/city3/scene.gltf\") #Edit path if needed\n",
        "        self.environ3.setH(180)\n",
        "        self.environ3.setPos(35,19500,-50)\n",
        "        self.environ3.setScale(100,100,100)\n",
        "        self.environ3.reparentTo(render)\n",
        "\n",
        "        self.ralph = Actor(\"myModels/scene.gltf\") #Edit path if needed\n",
        "        self.ralph.setH(180)\n",
        "        self.ralph.setScale(50,50,50)\n",
        "        self.ralph.setPos(0, 600, -170)\n",
        "        self.ralph.reparentTo(render)\n",
        "\n",
        "        self.floater = NodePath(PandaNode(\"floater\"))\n",
        "        self.floater.reparentTo(self.ralph)\n",
        "        self.floater.setZ(2)\n",
        "\n",
        "        self.accept(\"escape\", sys.exit)\n",
        "        self.accept(\"arrow_left\", self.setKey, [\"left\", True])\n",
        "        self.accept(\"arrow_right\", self.setKey, [\"right\", True])\n",
        "        self.accept(\"arrow_up\", self.setKey, [\"forward\", True])\n",
        "        self.accept(\"arrow_down\", self.setKey, [\"down\", True])\n",
        "        self.accept(\"a\", self.setKey, [\"cam-left\", True])\n",
        "        self.accept(\"s\", self.setKey, [\"cam-right\", True])\n",
        "        self.accept(\"arrow_left-up\", self.setKey, [\"left\", False])\n",
        "        self.accept(\"arrow_right-up\", self.setKey, [\"right\", False])\n",
        "        self.accept(\"arrow_up-up\", self.setKey, [\"forward\", False])\n",
        "        self.accept(\"arrow_down-up\", self.setKey, [\"down\", False])\n",
        "        self.accept(\"a-up\", self.setKey, [\"cam-left\", False])\n",
        "        self.accept(\"s-up\", self.setKey, [\"cam-right\", False])\n",
        "\n",
        "        taskMgr.add(self.move, \"moveTask\")\n",
        "        self.isMoving = False\n",
        "\n",
        "        # Set up the camera\n",
        "        #self.disableMouse()\n",
        "        self.camera.setPos(0, 1150,0)\n",
        "\n",
        "\n",
        "        ambientLight = AmbientLight(\"ambientLight\")\n",
        "        ambientLight.setColor((.5, .5, .5, 1))\n",
        "        directionalLight = DirectionalLight(\"directionalLight\")\n",
        "        directionalLight.setDirection((-5, -5, -5))\n",
        "        directionalLight.setColor((1, 1, 1, 1))\n",
        "        directionalLight.setSpecularColor((1, 1, 1, 1))\n",
        "        render.setLight(render.attachNewNode(ambientLight))\n",
        "        render.setLight(render.attachNewNode(directionalLight))\n",
        "\n",
        "    def move(self, task):\n",
        "        # Get the time that elapsed since last frame.  We multiply this with\n",
        "        # the desired speed in order to find out with which distance to move\n",
        "\n",
        "        dt = globalClock.getDt()\n",
        "\n",
        "        # If a move-key is pressed, move your car in the specified direction.\n",
        "        if self.keyMap[\"left\"]:\n",
        "            self.ralph.setH(self.ralph.getH() + 70 * dt)\n",
        "        if self.keyMap[\"right\"]:\n",
        "            self.ralph.setH(self.ralph.getH() - 70 * dt)\n",
        "        if self.keyMap[\"forward\"]:\n",
        "            self.ralph.setY(self.ralph, -25 * dt)\n",
        "        if self.keyMap[\"down\"]:\n",
        "            self.ralph.setY(self.ralph, +25 * dt)\n",
        "\n",
        "        if(self.ralph.getY()>19500):\n",
        "            x=round(visual[0],2)\n",
        "            FC=\"Fuel Consumption throughout trip: {}L \\n\".format(x)\n",
        "            y=round(visual[1],2)\n",
        "            uf=\"Utility Factor Obtained: {} \\n\".format(y)\n",
        "            z=round(visual[2],2)\n",
        "            cost=\"Total Powertrain Cost: ${} \\n\\n\".format(z)\n",
        "            opt=\"The proposed near optimal solution is:\\n\"\n",
        "            powerenginevalue=round(BestSolution[0],2)\n",
        "            pengine=\"Engine Power: {}kW \\n\".format(powerenginevalue)\n",
        "            powermotorvalue=round(BestSolution[1],2)\n",
        "            pmotor=\"Electric Motor Power: {}kW \\n\".format(powermotorvalue)\n",
        "            batcapvalue=round(BestSolution[2],2)\n",
        "            batterycap=\"Battery Capacity: {}kWh \\n\\n\".format(batcapvalue)\n",
        "            text=TextNode('Drive Cycle ended')\n",
        "            text.setText(opt+pengine+pmotor+batterycap+\n",
        "            \"You have finished a Drive Cycle for the solution!\\n\"+FC+uf+cost)\n",
        "            text.setAlign(TextNode.ACenter)\n",
        "            text.setSlant(.2)\n",
        "            text.setTextColor(0,0,0,1)\n",
        "            textNodePath = aspect2d.attachNewNode(text)\n",
        "            textNodePath.setScale(0.1)\n",
        "            text.setCardColor(0.7, 0.7, 0.7, 1)\n",
        "            text.setCardAsMargin(100, 100, 100, 100)\n",
        "            text.setCardDecal(True)\n",
        "\n",
        "        if self.keyMap[\"forward\"] or self.keyMap[\"left\"] or self.keyMap[\"right\"] or self.keyMap[\"down\"]:\n",
        "            if self.isMoving is False:\n",
        "                self.isMoving = True\n",
        "        else:\n",
        "            if self.isMoving:\n",
        "                self.ralph.stop()\n",
        "                self.isMoving = False\n",
        "\n",
        "\n",
        "        camvec = self.ralph.getPos() - self.camera.getPos()\n",
        "        camvec.setZ(0)\n",
        "        camdist = camvec.length()\n",
        "        camvec.normalize()\n",
        "        if camdist > 600.0:\n",
        "            self.camera.setPos(self.camera.getPos() + camvec * (camdist - 600))\n",
        "            camdist = 600.0\n",
        "        if camdist < 500.0:\n",
        "            self.camera.setPos(self.camera.getPos() - camvec * (500 - camdist))\n",
        "            camdist = 500.0\n",
        "\n",
        "        self.camera.lookAt(self.floater)\n",
        "\n",
        "        return task.cont"
      ]
    },
    {
      "cell_type": "code",
      "execution_count": null,
      "metadata": {
        "id": "o7jpkCBgFk_f",
        "outputId": "51721ece-1820-4935-e8f5-557bc59e6a04"
      },
      "outputs": [
        {
          "ename": "SystemExit",
          "evalue": "",
          "output_type": "error",
          "traceback": [
            "An exception has occurred, use %tb to see the full traceback.\n",
            "\u001b[1;31mSystemExit\u001b[0m\n"
          ]
        },
        {
          "name": "stderr",
          "output_type": "stream",
          "text": [
            "D:\\Anaconda3\\envs\\GUCMechatronics\\lib\\site-packages\\IPython\\core\\interactiveshell.py:3465: UserWarning: To exit: use 'exit', 'quit', or Ctrl-D.\n",
            "  warn(\"To exit: use 'exit', 'quit', or Ctrl-D.\", stacklevel=1)\n"
          ]
        }
      ],
      "source": [
        "myGame = Visualization()\n",
        "myGame.run()"
      ]
    }
  ],
  "metadata": {
    "colab": {
      "provenance": [],
      "include_colab_link": true
    },
    "kernelspec": {
      "display_name": "Python 3 (ipykernel)",
      "language": "python",
      "name": "python3"
    },
    "language_info": {
      "codemirror_mode": {
        "name": "ipython",
        "version": 3
      },
      "file_extension": ".py",
      "mimetype": "text/x-python",
      "name": "python",
      "nbconvert_exporter": "python",
      "pygments_lexer": "ipython3",
      "version": "3.9.13"
    }
  },
  "nbformat": 4,
  "nbformat_minor": 0
}