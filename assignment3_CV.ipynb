{
  "cells": [
    {
      "cell_type": "markdown",
      "metadata": {
        "id": "31QI5uURgnr-"
      },
      "source": [
        "I run this note book on google colab..\n"
      ]
    },
    {
      "cell_type": "markdown",
      "metadata": {
        "id": "iCGjN_eovLjc"
      },
      "source": [
        "conect to my drive"
      ]
    },
    {
      "cell_type": "code",
      "execution_count": null,
      "metadata": {
        "colab": {
          "base_uri": "https://localhost:8080/"
        },
        "id": "2s-cOXfyHfEp",
        "outputId": "cc3c285f-0e2b-4e3f-c3a5-1fad150f3c94",
        "scrolled": true
      },
      "outputs": [
        {
          "name": "stdout",
          "output_type": "stream",
          "text": [
            "Mounted at /content/drive\n"
          ]
        }
      ],
      "source": [
        "from google.colab import drive\n",
        "drive.mount('/content/drive')"
      ]
    },
    {
      "cell_type": "markdown",
      "metadata": {
        "id": "CoJt21ZHvnuE"
      },
      "source": [
        "**import libraries** "
      ]
    },
    {
      "cell_type": "code",
      "execution_count": null,
      "metadata": {
        "id": "EgHw6qSJHfEp"
      },
      "outputs": [],
      "source": [
        "import skimage\n",
        "from skimage import data\n",
        "import numpy as np\n",
        "import pandas as pd\n",
        "from skimage import filters\n",
        "from skimage import io\n",
        "import matplotlib.pyplot as plt\n",
        "import matplotlib.image as mpimg\n",
        "from skimage.color import rgb2gray\n",
        "from skimage.transform import resize\n",
        "import sklearn.metrics \n",
        "from sklearn.metrics import accuracy_score \n",
        "from sklearn.metrics import confusion_matrix\n",
        "from sklearn.metrics import classification_report\n",
        "from sklearn.metrics import roc_curve, roc_auc_score\n",
        "from sklearn import datasets, metrics, model_selection\n",
        "import os\n",
        "from datetime import datetime\n",
        "import matplotlib.pyplot as plt\n",
        "import warnings\n",
        "warnings.filterwarnings('ignore')\n",
        "from sklearn.model_selection import train_test_split\n",
        "from sklearn.metrics import f1_score\n",
        "from sklearn.metrics import classification_report\n",
        "import seaborn as sns\n",
        "import matplotlib as mpl\n",
        "\n",
        "from sklearn.metrics import mean_squared_error\n",
        "\n",
        "mpl.style.use('seaborn')\n"
      ]
    },
    {
      "cell_type": "markdown",
      "metadata": {
        "id": "lSfj_ee0HfEu"
      },
      "source": [
        "# Import the Keras API from Tensorflow"
      ]
    },
    {
      "cell_type": "code",
      "execution_count": null,
      "metadata": {
        "id": "RNmIB1tuv-mc"
      },
      "outputs": [],
      "source": [
        "import tensorflow as tf\n",
        "import tensorflow.keras\n",
        "from tensorflow.keras.models import Model\n",
        "from tensorflow.keras.layers import Dense, Flatten, Conv2D, MaxPooling2D , Dropout,LeakyReLU,BatchNormalization\n",
        "# from tensorflow.keras import backend as K"
      ]
    },
    {
      "cell_type": "code",
      "execution_count": null,
      "metadata": {
        "id": "3RLUpCal_Plw"
      },
      "outputs": [],
      "source": [
        "import keras_preprocessing\n",
        "from keras_preprocessing import image\n",
        "from keras_preprocessing.image import ImageDataGenerator"
      ]
    },
    {
      "cell_type": "markdown",
      "metadata": {
        "id": "TwsOs8e-HfEr"
      },
      "source": [
        "### ReadData\n",
        "then resize it in to 128*128\\\n",
        "then label images"
      ]
    },
    {
      "cell_type": "code",
      "execution_count": null,
      "metadata": {
        "id": "fp0xdGonHfEr"
      },
      "outputs": [],
      "source": [
        "def Read(path , lab):\n",
        "    images =io.imread_collection(path)\n",
        "    data = []\n",
        "    labels = []\n",
        "    for img in images:  \n",
        "        res = resize(img,(128,128),anti_aliasing=True)\n",
        "        data.append(res)\n",
        "        labels.append(lab)\n",
        "\n",
        "    return data ,labels"
      ]
    },
    {
      "cell_type": "markdown",
      "metadata": {
        "id": "KDCrVzlrHfEr"
      },
      "source": [
        "### Train Data"
      ]
    },
    {
      "cell_type": "code",
      "execution_count": null,
      "metadata": {
        "id": "3e6iiOg8HfEs"
      },
      "outputs": [],
      "source": [
        "train1,label1 =  Read(\"/content/drive/MyDrive/training/1/*.png\" ,\"0\")\n",
        "train2,label2 =  Read(\"/content/drive/MyDrive/training/2/*.png\" , \"1\")\n",
        "train3,label3 =  Read(\"/content/drive/MyDrive/training/3/*.png\" , \"2\")\n",
        "train4,label4 =  Read(\"/content/drive/MyDrive/training/4/*.png\" , \"3\")\n",
        "train6,label6 =  Read(\"/content/drive/MyDrive/training/6/*.png\" , \"4\")"
      ]
    },
    {
      "cell_type": "code",
      "execution_count": null,
      "metadata": {
        "id": "AFTxEQeNHfEs"
      },
      "outputs": [],
      "source": [
        "X_train = train1 + train2+train3+train4+train6\n",
        "Y_train = label1+label2+label3+label4+label6\n",
        "\n",
        "\n",
        "X_train =np.array(X_train)\n",
        "Y_train =np.array(Y_train)"
      ]
    },
    {
      "cell_type": "markdown",
      "metadata": {
        "id": "W8hcfD-wHfEt"
      },
      "source": [
        "### Test Data"
      ]
    },
    {
      "cell_type": "code",
      "execution_count": null,
      "metadata": {
        "id": "gUC1WP-THfEt"
      },
      "outputs": [],
      "source": [
        "test1,labe1 =  Read(\"/content/drive/MyDrive/testing/1/*.png\" ,\"0\")\n",
        "test2,labe2 =  Read(\"/content/drive/MyDrive/testing/2/*.png\" , \"1\")\n",
        "test3,labe3 =  Read(\"/content/drive/MyDrive/testing/3/*.png\" , \"2\")\n",
        "test4,labe4 =  Read(\"/content/drive/MyDrive/testing/4/*.png\" , \"3\")\n",
        "test6,labe6 =  Read(\"/content/drive/MyDrive/testing/6/*.png\" , \"4\")"
      ]
    },
    {
      "cell_type": "code",
      "execution_count": null,
      "metadata": {
        "id": "yZtp7Bw3HfEt"
      },
      "outputs": [],
      "source": [
        "X_test = test1 + test2+test3+test4+test6\n",
        "Y_test = labe1+labe2+labe3+labe4+labe6\n",
        "\n",
        "X_test =np.array(X_test)\n",
        "Y_test =np.array(Y_test)"
      ]
    },
    {
      "cell_type": "markdown",
      "metadata": {
        "id": "7WZ3jIdLHfEu"
      },
      "source": [
        "### Split Train in to train and validation"
      ]
    },
    {
      "cell_type": "code",
      "execution_count": null,
      "metadata": {
        "id": "ij20GZkNHfEu"
      },
      "outputs": [],
      "source": [
        "trainx, valx, trainy, valy = train_test_split(X_train, Y_train, test_size=0.4, stratify=Y_train, random_state=42)"
      ]
    },
    {
      "cell_type": "markdown",
      "metadata": {
        "id": "XYqekZUCw1u5"
      },
      "source": [
        "convert in ti integer"
      ]
    },
    {
      "cell_type": "code",
      "execution_count": null,
      "metadata": {
        "id": "oojiEEu3SgJR"
      },
      "outputs": [],
      "source": [
        "Y_test = np.array(Y_test).astype('int')\n",
        "trainy = np.array(trainy).astype('int')\n",
        "valy = np.array(valy).astype('int')"
      ]
    },
    {
      "cell_type": "markdown",
      "metadata": {
        "id": "Y9Iu1OKSI1YL"
      },
      "source": [
        "convert in to one hot encoding"
      ]
    },
    {
      "cell_type": "code",
      "execution_count": null,
      "metadata": {
        "id": "IhwYTM6rIwXu"
      },
      "outputs": [],
      "source": [
        "nClasses = 5\n",
        "\n",
        "y_train_k = tensorflow.keras.utils.to_categorical(trainy, num_classes=nClasses)\n",
        "y_val_k = tensorflow.keras.utils.to_categorical(valy, num_classes=nClasses)\n"
      ]
    },
    {
      "cell_type": "markdown",
      "metadata": {
        "id": "N_i5AjNbHfEv"
      },
      "source": [
        "# VGG-16\n",
        "import model "
      ]
    },
    {
      "cell_type": "code",
      "execution_count": null,
      "metadata": {
        "colab": {
          "base_uri": "https://localhost:8080/"
        },
        "id": "pqECwLWbHfEv",
        "outputId": "d2e3ea57-6658-4943-e1ff-a7d07dd61a14"
      },
      "outputs": [
        {
          "name": "stdout",
          "output_type": "stream",
          "text": [
            "Downloading data from https://storage.googleapis.com/tensorflow/keras-applications/vgg16/vgg16_weights_tf_dim_ordering_tf_kernels_notop.h5\n",
            "58892288/58889256 [==============================] - 1s 0us/step\n",
            "58900480/58889256 [==============================] - 1s 0us/step\n"
          ]
        }
      ],
      "source": [
        "from tensorflow.keras.applications import VGG16\n",
        " \n",
        "vgg_model = VGG16(weights='imagenet',\n",
        "                  include_top=False,\n",
        "                  input_shape=(128, 128, 3))\n",
        "\n"
      ]
    },
    {
      "cell_type": "code",
      "execution_count": null,
      "metadata": {
        "colab": {
          "base_uri": "https://localhost:8080/"
        },
        "id": "Nu2tz1-fHfEv",
        "outputId": "dc71b21e-2005-4c07-8375-9ff925760ce7",
        "scrolled": false
      },
      "outputs": [
        {
          "name": "stdout",
          "output_type": "stream",
          "text": [
            "Model: \"vgg16\"\n",
            "_________________________________________________________________\n",
            "Layer (type)                 Output Shape              Param #   \n",
            "=================================================================\n",
            "input_1 (InputLayer)         [(None, 128, 128, 3)]     0         \n",
            "_________________________________________________________________\n",
            "block1_conv1 (Conv2D)        (None, 128, 128, 64)      1792      \n",
            "_________________________________________________________________\n",
            "block1_conv2 (Conv2D)        (None, 128, 128, 64)      36928     \n",
            "_________________________________________________________________\n",
            "block1_pool (MaxPooling2D)   (None, 64, 64, 64)        0         \n",
            "_________________________________________________________________\n",
            "block2_conv1 (Conv2D)        (None, 64, 64, 128)       73856     \n",
            "_________________________________________________________________\n",
            "block2_conv2 (Conv2D)        (None, 64, 64, 128)       147584    \n",
            "_________________________________________________________________\n",
            "block2_pool (MaxPooling2D)   (None, 32, 32, 128)       0         \n",
            "_________________________________________________________________\n",
            "block3_conv1 (Conv2D)        (None, 32, 32, 256)       295168    \n",
            "_________________________________________________________________\n",
            "block3_conv2 (Conv2D)        (None, 32, 32, 256)       590080    \n",
            "_________________________________________________________________\n",
            "block3_conv3 (Conv2D)        (None, 32, 32, 256)       590080    \n",
            "_________________________________________________________________\n",
            "block3_pool (MaxPooling2D)   (None, 16, 16, 256)       0         \n",
            "_________________________________________________________________\n",
            "block4_conv1 (Conv2D)        (None, 16, 16, 512)       1180160   \n",
            "_________________________________________________________________\n",
            "block4_conv2 (Conv2D)        (None, 16, 16, 512)       2359808   \n",
            "_________________________________________________________________\n",
            "block4_conv3 (Conv2D)        (None, 16, 16, 512)       2359808   \n",
            "_________________________________________________________________\n",
            "block4_pool (MaxPooling2D)   (None, 8, 8, 512)         0         \n",
            "_________________________________________________________________\n",
            "block5_conv1 (Conv2D)        (None, 8, 8, 512)         2359808   \n",
            "_________________________________________________________________\n",
            "block5_conv2 (Conv2D)        (None, 8, 8, 512)         2359808   \n",
            "_________________________________________________________________\n",
            "block5_conv3 (Conv2D)        (None, 8, 8, 512)         2359808   \n",
            "_________________________________________________________________\n",
            "block5_pool (MaxPooling2D)   (None, 4, 4, 512)         0         \n",
            "=================================================================\n",
            "Total params: 14,714,688\n",
            "Trainable params: 14,714,688\n",
            "Non-trainable params: 0\n",
            "_________________________________________________________________\n",
            "None\n"
          ]
        }
      ],
      "source": [
        "print(vgg_model.summary())"
      ]
    },
    {
      "cell_type": "code",
      "execution_count": null,
      "metadata": {
        "colab": {
          "base_uri": "https://localhost:8080/"
        },
        "id": "z7cUjY6AHfEw",
        "outputId": "b4f161ed-b841-43d0-b57a-8b0168c3032f"
      },
      "outputs": [
        {
          "data": {
            "text/plain": [
              "<keras.layers.pooling.MaxPooling2D at 0x7f18f0489c50>"
            ]
          },
          "execution_count": 15,
          "metadata": {},
          "output_type": "execute_result"
        }
      ],
      "source": [
        "vgg_model.layers[6]"
      ]
    },
    {
      "cell_type": "markdown",
      "metadata": {
        "id": "LXqH3ccvwI4T"
      },
      "source": [
        "# 3.1 Classification Network\n"
      ]
    },
    {
      "cell_type": "markdown",
      "metadata": {
        "id": "0SJ0wUxeHjn1"
      },
      "source": [
        "use just first 2 block of Vgg then add Convolution Layer (128 with filter (3*3)filter) then use MaxPooling2D  repeat this step three time with different number and finish use flatten then dense (fully connected layer)"
      ]
    },
    {
      "cell_type": "code",
      "execution_count": null,
      "metadata": {
        "id": "_iUy8BtNHfEw"
      },
      "outputs": [],
      "source": [
        "from keras import Sequential\n",
        "\n",
        "for layer in vgg_model.layers:\n",
        "    layer.trainable = False\n",
        "\n",
        "model = Sequential()\n",
        "\n",
        "model = vgg_model.layers[6].output\n",
        "\n",
        "x = model\n",
        "\n",
        "x = Conv2D(128, (3,3), activation='relu', padding='same', input_shape=(128, 128, 3))(x)\n",
        "x = MaxPooling2D(2, 2)(x)\n",
        "\n",
        "x = Conv2D(256, (3,3), activation='relu', padding='same')(x)\n",
        "x = MaxPooling2D(2, 2)(x)\n",
        "\n",
        "x = Conv2D(256, (3,3), activation='relu', padding='same')(x)\n",
        "x = MaxPooling2D(2, 2)(x)\n",
        "\n",
        "x = Flatten()(x)\n",
        "x = Dense(5, activation='softmax')(x)\n",
        "\n",
        "from tensorflow.keras.models import Model\n",
        "vgg_model_transfer = Model(inputs=vgg_model.input, outputs=x)\n"
      ]
    },
    {
      "cell_type": "code",
      "execution_count": null,
      "metadata": {
        "colab": {
          "base_uri": "https://localhost:8080/"
        },
        "id": "C_Zl1XFXHfEw",
        "outputId": "b9e6ef17-7be5-4401-96ef-93a9e87bcf8d",
        "scrolled": true
      },
      "outputs": [
        {
          "name": "stdout",
          "output_type": "stream",
          "text": [
            "Model: \"model\"\n",
            "_________________________________________________________________\n",
            "Layer (type)                 Output Shape              Param #   \n",
            "=================================================================\n",
            "input_1 (InputLayer)         [(None, 128, 128, 3)]     0         \n",
            "_________________________________________________________________\n",
            "block1_conv1 (Conv2D)        (None, 128, 128, 64)      1792      \n",
            "_________________________________________________________________\n",
            "block1_conv2 (Conv2D)        (None, 128, 128, 64)      36928     \n",
            "_________________________________________________________________\n",
            "block1_pool (MaxPooling2D)   (None, 64, 64, 64)        0         \n",
            "_________________________________________________________________\n",
            "block2_conv1 (Conv2D)        (None, 64, 64, 128)       73856     \n",
            "_________________________________________________________________\n",
            "block2_conv2 (Conv2D)        (None, 64, 64, 128)       147584    \n",
            "_________________________________________________________________\n",
            "block2_pool (MaxPooling2D)   (None, 32, 32, 128)       0         \n",
            "_________________________________________________________________\n",
            "conv2d (Conv2D)              (None, 32, 32, 128)       147584    \n",
            "_________________________________________________________________\n",
            "max_pooling2d (MaxPooling2D) (None, 16, 16, 128)       0         \n",
            "_________________________________________________________________\n",
            "conv2d_1 (Conv2D)            (None, 16, 16, 256)       295168    \n",
            "_________________________________________________________________\n",
            "max_pooling2d_1 (MaxPooling2 (None, 8, 8, 256)         0         \n",
            "_________________________________________________________________\n",
            "conv2d_2 (Conv2D)            (None, 8, 8, 256)         590080    \n",
            "_________________________________________________________________\n",
            "max_pooling2d_2 (MaxPooling2 (None, 4, 4, 256)         0         \n",
            "_________________________________________________________________\n",
            "flatten (Flatten)            (None, 4096)              0         \n",
            "_________________________________________________________________\n",
            "dense (Dense)                (None, 5)                 20485     \n",
            "=================================================================\n",
            "Total params: 1,313,477\n",
            "Trainable params: 1,053,317\n",
            "Non-trainable params: 260,160\n",
            "_________________________________________________________________\n",
            "None\n"
          ]
        }
      ],
      "source": [
        "print(vgg_model_transfer.summary())"
      ]
    },
    {
      "cell_type": "markdown",
      "metadata": {
        "id": "47ZrEy6UHfEx"
      },
      "source": [
        "## Fit the model \n",
        "on train and validation"
      ]
    },
    {
      "cell_type": "code",
      "execution_count": null,
      "metadata": {
        "colab": {
          "base_uri": "https://localhost:8080/"
        },
        "id": "YzFJ21RgHfEx",
        "outputId": "dc920392-1856-4470-c45a-ba94fe10b5de",
        "scrolled": true
      },
      "outputs": [
        {
          "name": "stdout",
          "output_type": "stream",
          "text": [
            "Epoch 1/25\n",
            "18/18 [==============================] - 34s 109ms/step - loss: 3.8722 - accuracy: 0.2019 - val_loss: 2.6000 - val_accuracy: 0.2278\n",
            "Epoch 2/25\n",
            "18/18 [==============================] - 2s 97ms/step - loss: 1.4624 - accuracy: 0.4241 - val_loss: 1.6918 - val_accuracy: 0.2861\n",
            "Epoch 3/25\n",
            "18/18 [==============================] - 2s 97ms/step - loss: 0.9682 - accuracy: 0.6352 - val_loss: 1.6597 - val_accuracy: 0.3500\n",
            "Epoch 4/25\n",
            "18/18 [==============================] - 2s 89ms/step - loss: 0.6605 - accuracy: 0.8315 - val_loss: 1.5910 - val_accuracy: 0.3722\n",
            "Epoch 5/25\n",
            "18/18 [==============================] - 2s 96ms/step - loss: 0.4700 - accuracy: 0.9148 - val_loss: 1.5295 - val_accuracy: 0.3750\n",
            "Epoch 6/25\n",
            "18/18 [==============================] - 2s 88ms/step - loss: 0.3357 - accuracy: 0.9519 - val_loss: 1.5679 - val_accuracy: 0.3972\n",
            "Epoch 7/25\n",
            "18/18 [==============================] - 2s 97ms/step - loss: 0.2650 - accuracy: 0.9796 - val_loss: 1.7273 - val_accuracy: 0.3306\n",
            "Epoch 8/25\n",
            "18/18 [==============================] - 2s 96ms/step - loss: 0.1950 - accuracy: 0.9870 - val_loss: 1.4858 - val_accuracy: 0.3944\n",
            "Epoch 9/25\n",
            "18/18 [==============================] - 2s 91ms/step - loss: 0.1385 - accuracy: 0.9944 - val_loss: 1.4853 - val_accuracy: 0.4056\n",
            "Epoch 10/25\n",
            "18/18 [==============================] - 2s 97ms/step - loss: 0.1125 - accuracy: 1.0000 - val_loss: 1.5041 - val_accuracy: 0.4500\n",
            "Epoch 11/25\n",
            "18/18 [==============================] - 2s 89ms/step - loss: 0.0877 - accuracy: 1.0000 - val_loss: 1.5078 - val_accuracy: 0.4250\n",
            "Epoch 12/25\n",
            "18/18 [==============================] - 2s 88ms/step - loss: 0.0709 - accuracy: 1.0000 - val_loss: 1.5258 - val_accuracy: 0.4333\n",
            "Epoch 13/25\n",
            "18/18 [==============================] - 2s 90ms/step - loss: 0.0590 - accuracy: 1.0000 - val_loss: 1.5389 - val_accuracy: 0.3972\n",
            "Epoch 14/25\n",
            "18/18 [==============================] - 2s 96ms/step - loss: 0.0504 - accuracy: 1.0000 - val_loss: 1.5029 - val_accuracy: 0.4361\n",
            "Epoch 15/25\n",
            "18/18 [==============================] - 2s 90ms/step - loss: 0.0410 - accuracy: 1.0000 - val_loss: 1.4782 - val_accuracy: 0.4389\n",
            "Epoch 16/25\n",
            "18/18 [==============================] - 2s 88ms/step - loss: 0.0337 - accuracy: 1.0000 - val_loss: 1.4737 - val_accuracy: 0.4556\n",
            "Epoch 17/25\n",
            "18/18 [==============================] - 2s 89ms/step - loss: 0.0300 - accuracy: 1.0000 - val_loss: 1.4914 - val_accuracy: 0.4472\n",
            "Epoch 18/25\n",
            "18/18 [==============================] - 2s 89ms/step - loss: 0.0264 - accuracy: 1.0000 - val_loss: 1.4874 - val_accuracy: 0.4583\n",
            "Epoch 19/25\n",
            "18/18 [==============================] - 2s 97ms/step - loss: 0.0232 - accuracy: 1.0000 - val_loss: 1.4844 - val_accuracy: 0.4722\n",
            "Epoch 20/25\n",
            "18/18 [==============================] - 2s 96ms/step - loss: 0.0210 - accuracy: 1.0000 - val_loss: 1.4861 - val_accuracy: 0.4639\n",
            "Epoch 21/25\n",
            "18/18 [==============================] - 2s 97ms/step - loss: 0.0189 - accuracy: 1.0000 - val_loss: 1.4957 - val_accuracy: 0.4667\n",
            "Epoch 22/25\n",
            "18/18 [==============================] - 2s 88ms/step - loss: 0.0168 - accuracy: 1.0000 - val_loss: 1.4986 - val_accuracy: 0.4694\n",
            "Epoch 23/25\n",
            "18/18 [==============================] - 2s 88ms/step - loss: 0.0151 - accuracy: 1.0000 - val_loss: 1.5031 - val_accuracy: 0.4583\n",
            "Epoch 24/25\n",
            "18/18 [==============================] - 2s 96ms/step - loss: 0.0138 - accuracy: 1.0000 - val_loss: 1.4951 - val_accuracy: 0.4667\n",
            "Epoch 25/25\n",
            "18/18 [==============================] - 2s 89ms/step - loss: 0.0126 - accuracy: 1.0000 - val_loss: 1.5090 - val_accuracy: 0.4806\n"
          ]
        }
      ],
      "source": [
        "batchSize = 30\n",
        "nEpochs = 25\n",
        "    \n",
        "vgg_model_transfer.compile(loss='categorical_crossentropy', \n",
        "                           optimizer=tensorflow.keras.optimizers.Adam(lr=0.0001), \n",
        "                           metrics=['accuracy'])\n",
        "\n",
        "history = vgg_model_transfer.fit(trainx, y_train_k, batch_size=batchSize, epochs=nEpochs, verbose=1, \n",
        "                                 validation_data=(valx, y_val_k))\n"
      ]
    },
    {
      "cell_type": "markdown",
      "metadata": {
        "id": "3HzVaRztWOh_"
      },
      "source": [
        "there is over fit the accuracy in the train equal one"
      ]
    },
    {
      "cell_type": "markdown",
      "metadata": {
        "id": "SC0g-WlnHfEy"
      },
      "source": [
        "## Test model  "
      ]
    },
    {
      "cell_type": "code",
      "execution_count": null,
      "metadata": {
        "colab": {
          "base_uri": "https://localhost:8080/",
          "height": 744
        },
        "id": "mKKyG51HHfEy",
        "outputId": "ca186b59-3fa9-463d-89eb-35c2d8b9c14d"
      },
      "outputs": [
        {
          "name": "stdout",
          "output_type": "stream",
          "text": [
            "              precision    recall  f1-score   support\n",
            "\n",
            "           0       0.53      0.50      0.51        20\n",
            "           1       0.41      0.45      0.43        20\n",
            "           2       0.07      0.05      0.06        20\n",
            "           3       0.39      0.35      0.37        20\n",
            "           4       0.38      0.50      0.43        20\n",
            "\n",
            "    accuracy                           0.37       100\n",
            "   macro avg       0.36      0.37      0.36       100\n",
            "weighted avg       0.36      0.37      0.36       100\n",
            "\n",
            "\n",
            " Confusion matrix: \n",
            "\n",
            "[[10  6  3  1  0]\n",
            " [ 3  9  4  1  3]\n",
            " [ 5  6  1  3  5]\n",
            " [ 1  1  3  7  8]\n",
            " [ 0  0  4  6 10]]\n",
            "\n",
            "\n"
          ]
        },
        {
          "data": {
            "image/png": "[encoded data removed]",
            "text/plain": [
              "<Figure size 576x396 with 2 Axes>"
            ]
          },
          "metadata": {},
          "output_type": "display_data"
        }
      ],
      "source": [
        "y_predict_prob = vgg_model_transfer.predict(X_test)\n",
        "y_predict = y_predict_prob.argmax(axis=-1)\n",
        "print(classification_report(Y_test, y_predict))\n",
        "conf_mx = confusion_matrix(Y_test, y_predict)\n",
        "print('\\n Confusion matrix: \\n\\n{0}'.format(conf_mx))\n",
        "print('\\n')\n",
        "hm = sns.heatmap(conf_mx, annot = True)\n",
        "\n",
        "hm.set(title = \"Confusion matrix of test data\\n\")\n",
        "\n",
        "plt.show()"
      ]
    },
    {
      "cell_type": "markdown",
      "metadata": {
        "id": "xhhd-8V-HfEy"
      },
      "source": [
        "# Training History Visualization "
      ]
    },
    {
      "cell_type": "markdown",
      "metadata": {
        "id": "MDqHnptaKjQS"
      },
      "source": [
        "accuracy and convolution matrix for train \n"
      ]
    },
    {
      "cell_type": "code",
      "execution_count": null,
      "metadata": {
        "colab": {
          "base_uri": "https://localhost:8080/",
          "height": 744
        },
        "id": "Iz7aB1ydJlft",
        "outputId": "54448568-47b9-474e-c1be-2abd51a1f129"
      },
      "outputs": [
        {
          "name": "stdout",
          "output_type": "stream",
          "text": [
            "              precision    recall  f1-score   support\n",
            "\n",
            "           0       1.00      1.00      1.00       108\n",
            "           1       1.00      1.00      1.00       108\n",
            "           2       1.00      1.00      1.00       108\n",
            "           3       1.00      1.00      1.00       108\n",
            "           4       1.00      1.00      1.00       108\n",
            "\n",
            "    accuracy                           1.00       540\n",
            "   macro avg       1.00      1.00      1.00       540\n",
            "weighted avg       1.00      1.00      1.00       540\n",
            "\n",
            "\n",
            " Confusion matrix: \n",
            "\n",
            "[[108   0   0   0   0]\n",
            " [  0 108   0   0   0]\n",
            " [  0   0 108   0   0]\n",
            " [  0   0   0 108   0]\n",
            " [  0   0   0   0 108]]\n",
            "\n",
            "\n"
          ]
        },
        {
          "data": {
            "image/png": "[encoded data removed]",
            "text/plain": [
              "<Figure size 576x396 with 2 Axes>"
            ]
          },
          "metadata": {},
          "output_type": "display_data"
        }
      ],
      "source": [
        "y_pr = vgg_model_transfer.predict(trainx)\n",
        "y_pred = y_pr.argmax(axis=-1)\n",
        "print(classification_report(trainy, y_pred))\n",
        "conf_mx = confusion_matrix(trainy, y_pred)\n",
        "print('\\n Confusion matrix: \\n\\n{0}'.format(conf_mx))\n",
        "print('\\n')\n",
        "hm = sns.heatmap(conf_mx, annot = True)\n",
        "\n",
        "hm.set(title = \"Confusion matrix of train data\\n\")\n",
        "\n",
        "plt.show()"
      ]
    },
    {
      "cell_type": "markdown",
      "metadata": {
        "id": "_5BRKO3FKyyN"
      },
      "source": [
        "accuracy and convolution matrix for test"
      ]
    },
    {
      "cell_type": "code",
      "execution_count": null,
      "metadata": {
        "colab": {
          "base_uri": "https://localhost:8080/",
          "height": 744
        },
        "id": "-a5oKrTELGSE",
        "outputId": "48521e0f-45ee-4b2a-f9a0-63cd6bb36b0b"
      },
      "outputs": [
        {
          "name": "stdout",
          "output_type": "stream",
          "text": [
            "              precision    recall  f1-score   support\n",
            "\n",
            "           0       0.67      0.74      0.70        72\n",
            "           1       0.61      0.51      0.56        72\n",
            "           2       0.40      0.38      0.39        72\n",
            "           3       0.34      0.26      0.30        72\n",
            "           4       0.38      0.51      0.44        72\n",
            "\n",
            "    accuracy                           0.48       360\n",
            "   macro avg       0.48      0.48      0.48       360\n",
            "weighted avg       0.48      0.48      0.48       360\n",
            "\n",
            "\n",
            " Confusion matrix: \n",
            "\n",
            "[[53  2  7  2  8]\n",
            " [14 37  8  7  6]\n",
            " [ 5  9 27 14 17]\n",
            " [ 5  5 14 19 29]\n",
            " [ 2  8 11 14 37]]\n",
            "\n",
            "\n"
          ]
        },
        {
          "data": {
            "image/png": "[encoded data removed]",
            "text/plain": [
              "<Figure size 576x396 with 2 Axes>"
            ]
          },
          "metadata": {},
          "output_type": "display_data"
        }
      ],
      "source": [
        "y_prtest = vgg_model_transfer.predict(valx)\n",
        "y_predtest = y_prtest.argmax(axis=-1)\n",
        "print(classification_report(valy, y_predtest))\n",
        "conf_mx = confusion_matrix(valy, y_predtest)\n",
        "print('\\n Confusion matrix: \\n\\n{0}'.format(conf_mx))\n",
        "print('\\n')\n",
        "hm = sns.heatmap(conf_mx, annot = True)\n",
        "\n",
        "hm.set(title = \"Confusion matrix of val data\\n\")\n",
        "\n",
        "plt.show()"
      ]
    },
    {
      "cell_type": "markdown",
      "metadata": {
        "id": "exJ6PHErHfEy"
      },
      "source": [
        "**Accuracy**\n",
        "Source: Keras manual"
      ]
    },
    {
      "cell_type": "code",
      "execution_count": null,
      "metadata": {
        "colab": {
          "base_uri": "https://localhost:8080/",
          "height": 376
        },
        "id": "aEqVLKUOHfEy",
        "outputId": "e732a2a0-1f0c-40ff-aad9-aa779492e120"
      },
      "outputs": [
        {
          "data": {
            "image/png": "[encoded data removed]",
            "text/plain": [
              "<Figure size 576x396 with 1 Axes>"
            ]
          },
          "metadata": {},
          "output_type": "display_data"
        }
      ],
      "source": [
        "# dictionary keys seems to have changed in version 2\n",
        "k = ''\n",
        "if 'accuracy' in history.history :\n",
        "    k = 'accuracy'    \n",
        "\n",
        "if 'acc' in history.history :\n",
        "    k = 'acc'\n",
        "    \n",
        "if k != '' :    \n",
        "    plt.plot(history.history[k])\n",
        "    plt.plot(history.history['val_'+k])\n",
        "    plt.title('Model Accuracy')\n",
        "    plt.ylabel('Accuracy')\n",
        "    plt.xlabel('Epoch')\n",
        "    plt.legend(['train', 'val'], loc='upper left')\n",
        "    plt.show()\n"
      ]
    },
    {
      "cell_type": "markdown",
      "metadata": {
        "id": "btgwUdeaWZ82"
      },
      "source": [
        "we can see there is difference (gap) between curve of training and validation\n",
        "and the train is reached to one so the model is overfitting"
      ]
    },
    {
      "cell_type": "markdown",
      "metadata": {
        "id": "8DfEkLZfHfEy"
      },
      "source": [
        "**Loss**\n",
        "Source: Keras manual"
      ]
    },
    {
      "cell_type": "code",
      "execution_count": null,
      "metadata": {
        "colab": {
          "base_uri": "https://localhost:8080/",
          "height": 376
        },
        "id": "94QYwyIPHfEy",
        "outputId": "b7cb3c59-dca8-41f5-fe7a-a5cafd3211de"
      },
      "outputs": [
        {
          "data": {
            "image/png": "[encoded data removed]",
            "text/plain": [
              "<Figure size 576x396 with 1 Axes>"
            ]
          },
          "metadata": {},
          "output_type": "display_data"
        }
      ],
      "source": [
        "plt.plot(history.history['loss'])\n",
        "plt.plot(history.history['val_loss'])\n",
        "plt.title('Model loss')\n",
        "plt.ylabel('Loss')\n",
        "plt.xlabel('Epoch')\n",
        "plt.legend(['train', 'val'], loc='upper right')\n",
        "plt.show()\n",
        "\n"
      ]
    },
    {
      "cell_type": "markdown",
      "metadata": {
        "id": "RVROOCl9XTcH"
      },
      "source": [
        "we can see that the curve of train and validate stop updating after 10 Epochs or less than that and it can't reach to the minimum"
      ]
    },
    {
      "cell_type": "markdown",
      "metadata": {
        "id": "oUlxQw8VHfEz"
      },
      "source": [
        "# 3.2 Regression Network"
      ]
    },
    {
      "cell_type": "code",
      "execution_count": null,
      "metadata": {
        "id": "6wj5GODUHfEz"
      },
      "outputs": [],
      "source": [
        "from tensorflow.keras.applications import VGG16\n",
        " \n",
        "vgg_model = VGG16(weights='imagenet',\n",
        "                  include_top=False,\n",
        "                  input_shape=(128, 128, 3))"
      ]
    },
    {
      "cell_type": "code",
      "execution_count": null,
      "metadata": {
        "id": "iXEtGkZ3HfEz",
        "scrolled": true
      },
      "outputs": [],
      "source": [
        "# print(vgg_model.summary())"
      ]
    },
    {
      "cell_type": "markdown",
      "metadata": {
        "id": "WRpVyMK9MMms"
      },
      "source": [
        "use same as Classification but edit in last layer of dense use Dense(1)\n",
        "then LeakyReLU as activation function"
      ]
    },
    {
      "cell_type": "code",
      "execution_count": null,
      "metadata": {
        "id": "Nmtkc9sWHfEz"
      },
      "outputs": [],
      "source": [
        "for layer in vgg_model.layers:\n",
        "    layer.trainable = False\n",
        "\n",
        "x = vgg_model.layers[6].output\n",
        "\n",
        "x = Conv2D(128, (3,3), activation='relu', padding='same', input_shape=(128, 128, 3))(x)\n",
        "x = MaxPooling2D(2, 2)(x)\n",
        "\n",
        "x = Conv2D(256, (3,3), activation='relu' ,padding='same')(x)\n",
        "x = MaxPooling2D(2, 2)(x)\n",
        "\n",
        "\n",
        "x = Conv2D(256, (3,3), activation='relu' ,padding='same')(x)\n",
        "x = MaxPooling2D(2, 2)(x)\n",
        "\n",
        "x = Flatten()(x)\n",
        "x = Dense(16, activation='relu')(x)\n",
        "\n",
        "x = Dense(1)(x)\n",
        "x= LeakyReLU(alpha=0.01)(x)\n",
        "\n",
        "from tensorflow.keras.models import Model\n",
        "vgg_model_regression = Model(inputs=vgg_model.input, outputs=x)\n"
      ]
    },
    {
      "cell_type": "code",
      "execution_count": null,
      "metadata": {
        "id": "zIsFScCiymwh"
      },
      "outputs": [],
      "source": [
        "print(vgg_model_regression.summary())"
      ]
    },
    {
      "cell_type": "code",
      "execution_count": null,
      "metadata": {
        "colab": {
          "base_uri": "https://localhost:8080/"
        },
        "id": "M52klAzaOaDm",
        "outputId": "f863aa1f-778a-40de-8394-81af74e114ff"
      },
      "outputs": [
        {
          "name": "stdout",
          "output_type": "stream",
          "text": [
            "Epoch 1/25\n",
            "17/17 [==============================] - 3s 114ms/step - loss: 11.7005 - val_loss: 6.1195\n",
            "Epoch 2/25\n",
            "17/17 [==============================] - 2s 91ms/step - loss: 6.1077 - val_loss: 6.0900\n",
            "Epoch 3/25\n",
            "17/17 [==============================] - 2s 92ms/step - loss: 6.0577 - val_loss: 6.0289\n",
            "Epoch 4/25\n",
            "17/17 [==============================] - 2s 92ms/step - loss: 6.0045 - val_loss: 5.8841\n",
            "Epoch 5/25\n",
            "17/17 [==============================] - 2s 91ms/step - loss: 3.3522 - val_loss: 2.6135\n",
            "Epoch 6/25\n",
            "17/17 [==============================] - 2s 91ms/step - loss: 2.1674 - val_loss: 1.8897\n",
            "Epoch 7/25\n",
            "17/17 [==============================] - 2s 92ms/step - loss: 1.7592 - val_loss: 1.8273\n",
            "Epoch 8/25\n",
            "17/17 [==============================] - 1s 90ms/step - loss: 1.5399 - val_loss: 1.7601\n",
            "Epoch 9/25\n",
            "17/17 [==============================] - 2s 90ms/step - loss: 1.3822 - val_loss: 1.6117\n",
            "Epoch 10/25\n",
            "17/17 [==============================] - 2s 90ms/step - loss: 1.2796 - val_loss: 1.5667\n",
            "Epoch 11/25\n",
            "17/17 [==============================] - 2s 91ms/step - loss: 1.0626 - val_loss: 1.5321\n",
            "Epoch 12/25\n",
            "17/17 [==============================] - 2s 92ms/step - loss: 0.8556 - val_loss: 1.4634\n",
            "Epoch 13/25\n",
            "17/17 [==============================] - 2s 91ms/step - loss: 0.8284 - val_loss: 1.5723\n",
            "Epoch 14/25\n",
            "17/17 [==============================] - 2s 91ms/step - loss: 0.6668 - val_loss: 1.3276\n",
            "Epoch 15/25\n",
            "17/17 [==============================] - 2s 92ms/step - loss: 0.5907 - val_loss: 1.2909\n",
            "Epoch 16/25\n",
            "17/17 [==============================] - 2s 91ms/step - loss: 0.5510 - val_loss: 1.2775\n",
            "Epoch 17/25\n",
            "17/17 [==============================] - 2s 91ms/step - loss: 0.4443 - val_loss: 1.2468\n",
            "Epoch 18/25\n",
            "17/17 [==============================] - 2s 91ms/step - loss: 0.3780 - val_loss: 1.2287\n",
            "Epoch 19/25\n",
            "17/17 [==============================] - 2s 92ms/step - loss: 0.3570 - val_loss: 1.2298\n",
            "Epoch 20/25\n",
            "17/17 [==============================] - 2s 91ms/step - loss: 0.3074 - val_loss: 1.1909\n",
            "Epoch 21/25\n",
            "17/17 [==============================] - 2s 91ms/step - loss: 0.2609 - val_loss: 1.1825\n",
            "Epoch 22/25\n",
            "17/17 [==============================] - 2s 92ms/step - loss: 0.2227 - val_loss: 1.1643\n",
            "Epoch 23/25\n",
            "17/17 [==============================] - 2s 92ms/step - loss: 0.2046 - val_loss: 1.1664\n",
            "Epoch 24/25\n",
            "17/17 [==============================] - 2s 91ms/step - loss: 0.1918 - val_loss: 1.1631\n",
            "Epoch 25/25\n",
            "17/17 [==============================] - 2s 91ms/step - loss: 0.1709 - val_loss: 1.1599\n"
          ]
        }
      ],
      "source": [
        "batchSize = 32\n",
        "nEpochs = 25\n",
        "\n",
        "    \n",
        "vgg_model_regression.compile(loss='MeanSquaredError', \n",
        "                          optimizer=tf.keras.optimizers.Adam(learning_rate=0.0001))\n",
        "\n",
        "\n",
        "historyreg = vgg_model_regression.fit(trainx, trainy, batch_size=batchSize, epochs=nEpochs, verbose=1,validation_data=(valx, valy))\n"
      ]
    },
    {
      "cell_type": "code",
      "execution_count": null,
      "metadata": {
        "colab": {
          "base_uri": "https://localhost:8080/"
        },
        "id": "Mn-Tt1N_QK1M",
        "outputId": "a4e83d22-ac3b-44e3-cb4b-1cd5290a7347"
      },
      "outputs": [
        {
          "name": "stdout",
          "output_type": "stream",
          "text": [
            "mean_squared_error for test  1.041972770089563\n",
            "mean_squared_error for train  0.14331725552603175\n",
            "mean_squared_error for Val  1.159947872483744\n"
          ]
        }
      ],
      "source": [
        "y_predictreg = vgg_model_regression.predict(X_test)\n",
        "print(\"mean_squared_error for test \",mean_squared_error(Y_test, y_predictreg))\n",
        "\n",
        "#################################\n",
        "\n",
        "testy_predictreg = vgg_model_regression.predict(trainx)\n",
        "print(\"mean_squared_error for train \",mean_squared_error(trainy, testy_predictreg))\n",
        "\n",
        "##################################\n",
        "\n",
        "y_predictregtest = vgg_model_regression.predict(valx)\n",
        "print(\"mean_squared_error for Val \",mean_squared_error(valy, y_predictregtest))\n"
      ]
    },
    {
      "cell_type": "code",
      "execution_count": null,
      "metadata": {
        "colab": {
          "base_uri": "https://localhost:8080/",
          "height": 376
        },
        "id": "jR3WANZTVaJ2",
        "outputId": "cc9e7ac2-eef9-48df-ffb4-8ce9b2b585b7"
      },
      "outputs": [
        {
          "data": {
            "image/png": "[encoded data removed]",
            "text/plain": [
              "<Figure size 576x396 with 1 Axes>"
            ]
          },
          "metadata": {},
          "output_type": "display_data"
        }
      ],
      "source": [
        "plt.plot(historyreg.history['loss'])\n",
        "plt.plot(historyreg.history['val_loss'])\n",
        "plt.title('Model loss')\n",
        "plt.ylabel('Loss')\n",
        "plt.xlabel('Epoch')\n",
        "plt.legend(['train', 'val'], loc='upper right')\n",
        "plt.show()\n",
        "\n"
      ]
    },
    {
      "cell_type": "markdown",
      "metadata": {
        "id": "gO_i1h0IV0Iz"
      },
      "source": [
        "in regeresion I try to use more than activation function in the last dense and when i use relu the ouput was constant number and not to improve so i use LeakyReLU, the model was improved little. \n",
        "from the curve we can see that the mode also can't reach the minimum loss and still there overfitting.\n"
      ]
    },
    {
      "cell_type": "markdown",
      "metadata": {
        "id": "TOOEthpoVJ_u"
      },
      "source": [
        "## 3.3 Discussion\n",
        "\n",
        "The size of the training data is quite small. Discuss based on your learning curves if overfitting is occurring with your networks in Question 3.1 and Question 3.2.\n",
        "\n",
        "yes the size of data is very small so the moddel is overfitting and the accuracy for the test is low and you can see comments on each graph\n"
      ]
    },
    {
      "cell_type": "markdown",
      "metadata": {
        "id": "tqM2NHhWR_x1"
      },
      "source": [
        "# [4] *Improving the Model*\n"
      ]
    },
    {
      "cell_type": "markdown",
      "metadata": {
        "id": "wPb1JPJrSdO0"
      },
      "source": [
        "### 4.1 Regularization"
      ]
    },
    {
      "cell_type": "markdown",
      "metadata": {
        "id": "pHaGOq1hZl2t"
      },
      "source": [
        "we select **Classification** model to use on it regularization\n",
        "\n",
        "---\n",
        "in regularization we use BatchNormalization after each Conv2D  and add new Conv2D then use Dropout after flatten.\n",
        "\n",
        "\n",
        "\n"
      ]
    },
    {
      "cell_type": "code",
      "execution_count": null,
      "metadata": {
        "id": "iv3SSYzvW0zc"
      },
      "outputs": [],
      "source": [
        "\n",
        "for layer in vgg_model.layers:\n",
        "    layer.trainable = False\n",
        "\n",
        "reg = vgg_model.layers[6].output\n",
        "reg = Conv2D(128, (3,3), activation='relu', padding='same',input_shape=(128, 128, 3))(reg)\n",
        "reg = BatchNormalization()(reg)\n",
        "reg = MaxPooling2D(2, 2)(reg)\n",
        "\n",
        "reg = Conv2D(256, (3,3), activation='relu', padding='same')(reg)\n",
        "reg = BatchNormalization()(reg)\n",
        "reg = MaxPooling2D(2, 2)(reg)\n",
        "\n",
        "\n",
        "reg = Conv2D(256, (3,3), activation='relu', padding='same')(reg)\n",
        "reg = BatchNormalization()(reg)\n",
        "reg = MaxPooling2D(2, 2)(reg)\n",
        "\n",
        "reg = Conv2D(512, (3,3), activation='relu', padding='same')(reg)\n",
        "reg = BatchNormalization()(reg)\n",
        "reg = MaxPooling2D(2, 2)(reg)\n",
        "\n",
        "\n",
        "\n",
        "\n",
        "reg = Flatten()(reg)\n",
        "\n",
        "# reg = Dense(28, activation='softmax')(reg)\n",
        "\n",
        "reg = Dropout(0.5)(reg)\n",
        "\n",
        "reg = Dense(5, activation='softmax')(reg)\n",
        "\n",
        "from tensorflow.keras.models import Model\n",
        "vgg_model_reg = Model(inputs=vgg_model.input, outputs=reg)"
      ]
    },
    {
      "cell_type": "code",
      "execution_count": null,
      "metadata": {
        "colab": {
          "base_uri": "https://localhost:8080/"
        },
        "id": "bCE_mhG9XO21",
        "outputId": "c0d8cafc-94cf-4c15-9834-75d1b083d585"
      },
      "outputs": [
        {
          "name": "stdout",
          "output_type": "stream",
          "text": [
            "Epoch 1/50\n",
            "18/18 [==============================] - 3s 133ms/step - loss: 3.7013 - accuracy: 0.2130 - val_loss: 2.0096 - val_accuracy: 0.1667\n",
            "Epoch 2/50\n",
            "18/18 [==============================] - 2s 103ms/step - loss: 3.1289 - accuracy: 0.2426 - val_loss: 1.8282 - val_accuracy: 0.2000\n",
            "Epoch 3/50\n",
            "18/18 [==============================] - 2s 97ms/step - loss: 2.6707 - accuracy: 0.3204 - val_loss: 1.7419 - val_accuracy: 0.2083\n",
            "Epoch 4/50\n",
            "18/18 [==============================] - 2s 97ms/step - loss: 2.4537 - accuracy: 0.3426 - val_loss: 1.7325 - val_accuracy: 0.2389\n",
            "Epoch 5/50\n",
            "18/18 [==============================] - 2s 98ms/step - loss: 2.0013 - accuracy: 0.3944 - val_loss: 1.7138 - val_accuracy: 0.2278\n",
            "Epoch 6/50\n",
            "18/18 [==============================] - 2s 96ms/step - loss: 1.8812 - accuracy: 0.4389 - val_loss: 1.6995 - val_accuracy: 0.2333\n",
            "Epoch 7/50\n",
            "18/18 [==============================] - 2s 104ms/step - loss: 1.7480 - accuracy: 0.4778 - val_loss: 1.7102 - val_accuracy: 0.2333\n",
            "Epoch 8/50\n",
            "18/18 [==============================] - 2s 103ms/step - loss: 1.4667 - accuracy: 0.5389 - val_loss: 1.7064 - val_accuracy: 0.2611\n",
            "Epoch 9/50\n",
            "18/18 [==============================] - 2s 103ms/step - loss: 1.4229 - accuracy: 0.5222 - val_loss: 1.6936 - val_accuracy: 0.2583\n",
            "Epoch 10/50\n",
            "18/18 [==============================] - 2s 104ms/step - loss: 1.1798 - accuracy: 0.5963 - val_loss: 1.6937 - val_accuracy: 0.2861\n",
            "Epoch 11/50\n",
            "18/18 [==============================] - 2s 103ms/step - loss: 1.0428 - accuracy: 0.6315 - val_loss: 1.6979 - val_accuracy: 0.2944\n",
            "Epoch 12/50\n",
            "18/18 [==============================] - 2s 103ms/step - loss: 1.0538 - accuracy: 0.6444 - val_loss: 1.6792 - val_accuracy: 0.2889\n",
            "Epoch 13/50\n",
            "18/18 [==============================] - 2s 103ms/step - loss: 0.9522 - accuracy: 0.6648 - val_loss: 1.6805 - val_accuracy: 0.3111\n",
            "Epoch 14/50\n",
            "18/18 [==============================] - 2s 96ms/step - loss: 0.7714 - accuracy: 0.7259 - val_loss: 1.6786 - val_accuracy: 0.3139\n",
            "Epoch 15/50\n",
            "18/18 [==============================] - 2s 104ms/step - loss: 0.7879 - accuracy: 0.7037 - val_loss: 1.6872 - val_accuracy: 0.3111\n",
            "Epoch 16/50\n",
            "18/18 [==============================] - 2s 104ms/step - loss: 0.6267 - accuracy: 0.7759 - val_loss: 1.6995 - val_accuracy: 0.3111\n",
            "Epoch 17/50\n",
            "18/18 [==============================] - 2s 102ms/step - loss: 0.6361 - accuracy: 0.7667 - val_loss: 1.7180 - val_accuracy: 0.3028\n",
            "Epoch 18/50\n",
            "18/18 [==============================] - 2s 97ms/step - loss: 0.5907 - accuracy: 0.7981 - val_loss: 1.7161 - val_accuracy: 0.3306\n",
            "Epoch 19/50\n",
            "18/18 [==============================] - 2s 104ms/step - loss: 0.5598 - accuracy: 0.8037 - val_loss: 1.7324 - val_accuracy: 0.3500\n",
            "Epoch 20/50\n",
            "18/18 [==============================] - 2s 103ms/step - loss: 0.4769 - accuracy: 0.8278 - val_loss: 1.7345 - val_accuracy: 0.3556\n",
            "Epoch 21/50\n",
            "18/18 [==============================] - 2s 103ms/step - loss: 0.4095 - accuracy: 0.8611 - val_loss: 1.7535 - val_accuracy: 0.3611\n",
            "Epoch 22/50\n",
            "18/18 [==============================] - 2s 104ms/step - loss: 0.3666 - accuracy: 0.8630 - val_loss: 1.7810 - val_accuracy: 0.3667\n",
            "Epoch 23/50\n",
            "18/18 [==============================] - 2s 104ms/step - loss: 0.3970 - accuracy: 0.8407 - val_loss: 1.8031 - val_accuracy: 0.3417\n",
            "Epoch 24/50\n",
            "18/18 [==============================] - 2s 103ms/step - loss: 0.2929 - accuracy: 0.8759 - val_loss: 1.7969 - val_accuracy: 0.3583\n",
            "Epoch 25/50\n",
            "18/18 [==============================] - 2s 97ms/step - loss: 0.3045 - accuracy: 0.8981 - val_loss: 1.7743 - val_accuracy: 0.3583\n",
            "Epoch 26/50\n",
            "18/18 [==============================] - 2s 97ms/step - loss: 0.2984 - accuracy: 0.8870 - val_loss: 1.7979 - val_accuracy: 0.3556\n",
            "Epoch 27/50\n",
            "18/18 [==============================] - 2s 96ms/step - loss: 0.2394 - accuracy: 0.9185 - val_loss: 1.8209 - val_accuracy: 0.3639\n",
            "Epoch 28/50\n",
            "18/18 [==============================] - 2s 96ms/step - loss: 0.2786 - accuracy: 0.9037 - val_loss: 1.7980 - val_accuracy: 0.3694\n",
            "Epoch 29/50\n",
            "18/18 [==============================] - 2s 104ms/step - loss: 0.2638 - accuracy: 0.9056 - val_loss: 1.8422 - val_accuracy: 0.3611\n",
            "Epoch 30/50\n",
            "18/18 [==============================] - 2s 98ms/step - loss: 0.2209 - accuracy: 0.9222 - val_loss: 1.8586 - val_accuracy: 0.3583\n",
            "Epoch 31/50\n",
            "18/18 [==============================] - 2s 97ms/step - loss: 0.2223 - accuracy: 0.9130 - val_loss: 1.8126 - val_accuracy: 0.3833\n",
            "Epoch 32/50\n",
            "18/18 [==============================] - 2s 97ms/step - loss: 0.2201 - accuracy: 0.9185 - val_loss: 1.8005 - val_accuracy: 0.3889\n",
            "Epoch 33/50\n",
            "18/18 [==============================] - 2s 104ms/step - loss: 0.2319 - accuracy: 0.9148 - val_loss: 1.8185 - val_accuracy: 0.3889\n",
            "Epoch 34/50\n",
            "18/18 [==============================] - 2s 103ms/step - loss: 0.2096 - accuracy: 0.9333 - val_loss: 1.8021 - val_accuracy: 0.3861\n",
            "Epoch 35/50\n",
            "18/18 [==============================] - 2s 103ms/step - loss: 0.1686 - accuracy: 0.9389 - val_loss: 1.8030 - val_accuracy: 0.3889\n",
            "Epoch 36/50\n",
            "18/18 [==============================] - 2s 96ms/step - loss: 0.1617 - accuracy: 0.9481 - val_loss: 1.8347 - val_accuracy: 0.3833\n",
            "Epoch 37/50\n",
            "18/18 [==============================] - 2s 103ms/step - loss: 0.1558 - accuracy: 0.9481 - val_loss: 1.8192 - val_accuracy: 0.4056\n",
            "Epoch 38/50\n",
            "18/18 [==============================] - 2s 97ms/step - loss: 0.1338 - accuracy: 0.9574 - val_loss: 1.8365 - val_accuracy: 0.3917\n",
            "Epoch 39/50\n",
            "18/18 [==============================] - 2s 97ms/step - loss: 0.1608 - accuracy: 0.9537 - val_loss: 1.8783 - val_accuracy: 0.3639\n",
            "Epoch 40/50\n",
            "18/18 [==============================] - 2s 96ms/step - loss: 0.1173 - accuracy: 0.9593 - val_loss: 1.8343 - val_accuracy: 0.3944\n",
            "Epoch 41/50\n",
            "18/18 [==============================] - 2s 95ms/step - loss: 0.1103 - accuracy: 0.9778 - val_loss: 1.8146 - val_accuracy: 0.4000\n",
            "Epoch 42/50\n",
            "18/18 [==============================] - 2s 103ms/step - loss: 0.1550 - accuracy: 0.9537 - val_loss: 1.8112 - val_accuracy: 0.4083\n",
            "Epoch 43/50\n",
            "18/18 [==============================] - 2s 103ms/step - loss: 0.1136 - accuracy: 0.9630 - val_loss: 1.8153 - val_accuracy: 0.4083\n",
            "Epoch 44/50\n",
            "18/18 [==============================] - 2s 102ms/step - loss: 0.0927 - accuracy: 0.9685 - val_loss: 1.8060 - val_accuracy: 0.4056\n",
            "Epoch 45/50\n",
            "18/18 [==============================] - 2s 96ms/step - loss: 0.1013 - accuracy: 0.9648 - val_loss: 1.8145 - val_accuracy: 0.4056\n",
            "Epoch 46/50\n",
            "18/18 [==============================] - 2s 97ms/step - loss: 0.0762 - accuracy: 0.9852 - val_loss: 1.8214 - val_accuracy: 0.4028\n",
            "Epoch 47/50\n",
            "18/18 [==============================] - 2s 103ms/step - loss: 0.1201 - accuracy: 0.9704 - val_loss: 1.8405 - val_accuracy: 0.4000\n",
            "Epoch 48/50\n",
            "18/18 [==============================] - 2s 104ms/step - loss: 0.1003 - accuracy: 0.9741 - val_loss: 1.8517 - val_accuracy: 0.3889\n",
            "Epoch 49/50\n",
            "18/18 [==============================] - 2s 97ms/step - loss: 0.0851 - accuracy: 0.9759 - val_loss: 1.8817 - val_accuracy: 0.3806\n",
            "Epoch 50/50\n",
            "18/18 [==============================] - 2s 96ms/step - loss: 0.0762 - accuracy: 0.9815 - val_loss: 1.8627 - val_accuracy: 0.3917\n"
          ]
        }
      ],
      "source": [
        "batchSize = 30\n",
        "nEpochs = 50\n",
        "\n",
        "    \n",
        "\n",
        "vgg_model_reg.compile(loss='categorical_crossentropy', \n",
        "                           optimizer=tensorflow.keras.optimizers.Adam(lr=0.00001), \n",
        "                           metrics=['accuracy'])\n",
        "\n",
        "\n",
        "historyreg = vgg_model_reg.fit(trainx, y_train_k, batch_size=batchSize, epochs=nEpochs, verbose=1, \n",
        "                                 validation_data=(valx, y_val_k))\n"
      ]
    },
    {
      "cell_type": "code",
      "execution_count": null,
      "metadata": {
        "colab": {
          "base_uri": "https://localhost:8080/",
          "height": 744
        },
        "id": "E7nROkogX6et",
        "outputId": "43bbd303-6297-49c9-d439-ff7252354474"
      },
      "outputs": [
        {
          "name": "stdout",
          "output_type": "stream",
          "text": [
            "              precision    recall  f1-score   support\n",
            "\n",
            "           0       0.36      0.45      0.40        20\n",
            "           1       0.35      0.35      0.35        20\n",
            "           2       0.48      0.50      0.49        20\n",
            "           3       0.14      0.10      0.12        20\n",
            "           4       0.45      0.45      0.45        20\n",
            "\n",
            "    accuracy                           0.37       100\n",
            "   macro avg       0.36      0.37      0.36       100\n",
            "weighted avg       0.36      0.37      0.36       100\n",
            "\n",
            "\n",
            " Confusion matrix: \n",
            "\n",
            "[[53  2  7  2  8]\n",
            " [14 37  8  7  6]\n",
            " [ 5  9 27 14 17]\n",
            " [ 5  5 14 19 29]\n",
            " [ 2  8 11 14 37]]\n",
            "\n",
            "\n"
          ]
        },
        {
          "data": {
            "image/png": "[encoded data removed]",
            "text/plain": [
              "<Figure size 576x396 with 2 Axes>"
            ]
          },
          "metadata": {},
          "output_type": "display_data"
        }
      ],
      "source": [
        "y_predict_reg = vgg_model_reg.predict(X_test)\n",
        "y_predictreg = y_predict_reg.argmax(axis=-1)\n",
        "print(classification_report(Y_test, y_predictreg))\n",
        "conf_mxreg = confusion_matrix(Y_test, y_predictreg)\n",
        "print('\\n Confusion matrix: \\n\\n{0}'.format(conf_mx))\n",
        "print('\\n')\n",
        "hm = sns.heatmap(conf_mxreg, annot = True)\n",
        "\n",
        "hm.set(title = \"Confusion matrix of test data\\n\")\n",
        "\n",
        "plt.show()"
      ]
    },
    {
      "cell_type": "code",
      "execution_count": null,
      "metadata": {
        "colab": {
          "base_uri": "https://localhost:8080/",
          "height": 744
        },
        "id": "b8iTZEt8NZ29",
        "outputId": "76d31a5d-41a1-4a53-95ac-994eacb6e7c9"
      },
      "outputs": [
        {
          "name": "stdout",
          "output_type": "stream",
          "text": [
            "              precision    recall  f1-score   support\n",
            "\n",
            "           0       0.98      0.95      0.97       108\n",
            "           1       0.98      0.97      0.98       108\n",
            "           2       0.96      0.92      0.94       108\n",
            "           3       0.97      0.90      0.93       108\n",
            "           4       0.86      1.00      0.93       108\n",
            "\n",
            "    accuracy                           0.95       540\n",
            "   macro avg       0.95      0.95      0.95       540\n",
            "weighted avg       0.95      0.95      0.95       540\n",
            "\n",
            "\n",
            " Confusion matrix: \n",
            "\n",
            "[[103   2   2   0   1]\n",
            " [  0 105   0   0   3]\n",
            " [  1   0  99   3   5]\n",
            " [  1   0   2  97   8]\n",
            " [  0   0   0   0 108]]\n",
            "\n",
            "\n"
          ]
        },
        {
          "data": {
            "image/png": "[encoded data removed]",
            "text/plain": [
              "<Figure size 576x396 with 2 Axes>"
            ]
          },
          "metadata": {},
          "output_type": "display_data"
        }
      ],
      "source": [
        "trainy_predict_reg = vgg_model_reg.predict(trainx)\n",
        "trainy_predictreg = trainy_predict_reg.argmax(axis=-1)\n",
        "print(classification_report(trainy, trainy_predictreg))\n",
        "trainconf_mxreg = confusion_matrix(trainy, trainy_predictreg)\n",
        "print('\\n Confusion matrix: \\n\\n{0}'.format(trainconf_mxreg))\n",
        "print('\\n')\n",
        "hm = sns.heatmap(conf_mxreg, annot = True)\n",
        "\n",
        "hm.set(title = \"Confusion matrix of train data\\n\")\n",
        "\n",
        "plt.show()"
      ]
    },
    {
      "cell_type": "code",
      "execution_count": null,
      "metadata": {
        "colab": {
          "base_uri": "https://localhost:8080/",
          "height": 744
        },
        "id": "zZS0o9EKPDJc",
        "outputId": "c8bc38dd-53fa-47bd-c4d2-260603a00d47"
      },
      "outputs": [
        {
          "name": "stdout",
          "output_type": "stream",
          "text": [
            "              precision    recall  f1-score   support\n",
            "\n",
            "           0       0.68      0.71      0.69        72\n",
            "           1       0.51      0.43      0.47        72\n",
            "           2       0.44      0.40      0.42        72\n",
            "           3       0.36      0.28      0.31        72\n",
            "           4       0.54      0.78      0.64        72\n",
            "\n",
            "    accuracy                           0.52       360\n",
            "   macro avg       0.51      0.52      0.51       360\n",
            "weighted avg       0.51      0.52      0.51       360\n",
            "\n",
            "\n",
            " Confusion matrix: \n",
            "\n",
            "[[51  7 10  0  4]\n",
            " [13 31 14 11  3]\n",
            " [ 6 11 29 16 10]\n",
            " [ 3 10  9 20 30]\n",
            " [ 2  2  4  8 56]]\n",
            "\n",
            "\n"
          ]
        },
        {
          "data": {
            "image/png": "[encoded data removed]",
            "text/plain": [
              "<Figure size 576x396 with 2 Axes>"
            ]
          },
          "metadata": {},
          "output_type": "display_data"
        }
      ],
      "source": [
        "valy_predict_reg = vgg_model_reg.predict(valx)\n",
        "valy_predictreg = valy_predict_reg.argmax(axis=-1)\n",
        "print(classification_report(valy, valy_predictreg))\n",
        "valconf_mxreg = confusion_matrix(valy, valy_predictreg)\n",
        "print('\\n Confusion matrix: \\n\\n{0}'.format(valconf_mxreg))\n",
        "print('\\n')\n",
        "hm = sns.heatmap(conf_mxreg, annot = True)\n",
        "\n",
        "hm.set(title = \"Confusion matrix of val data\\n\")\n",
        "\n",
        "plt.show()"
      ]
    },
    {
      "cell_type": "code",
      "execution_count": null,
      "metadata": {
        "colab": {
          "base_uri": "https://localhost:8080/",
          "height": 376
        },
        "id": "0FDUxF9HPRIj",
        "outputId": "8fc40754-a56f-4172-a1fb-b03b3b9e5894"
      },
      "outputs": [
        {
          "data": {
            "image/png": "[encoded data removed]",
            "text/plain": [
              "<Figure size 576x396 with 1 Axes>"
            ]
          },
          "metadata": {},
          "output_type": "display_data"
        }
      ],
      "source": [
        "# dictionary keys seems to have changed in version 2\n",
        "k = ''\n",
        "if 'accuracy' in historyreg.history :\n",
        "    k = 'accuracy'    \n",
        "\n",
        "if 'acc' in historyreg.history :\n",
        "    k = 'acc'\n",
        "    \n",
        "if k != '' :    \n",
        "    plt.plot(historyreg.history[k])\n",
        "    plt.plot(historyreg.history['val_'+k])\n",
        "    plt.title('Model Accuracy')\n",
        "    plt.ylabel('Accuracy')\n",
        "    plt.xlabel('Epoch')\n",
        "    plt.legend(['train', 'val'], loc='upper left')\n",
        "    plt.show()\n"
      ]
    },
    {
      "cell_type": "markdown",
      "metadata": {
        "id": "hzClU5ILa_fl"
      },
      "source": [
        "in regularization there is still over fitting but best than the first classification.\n",
        "\n",
        "the accuracy not high improved "
      ]
    },
    {
      "cell_type": "code",
      "execution_count": null,
      "metadata": {
        "colab": {
          "base_uri": "https://localhost:8080/",
          "height": 376
        },
        "id": "tzeDAaVLPngD",
        "outputId": "8e2648ac-cdeb-4d57-9ee5-568f83d6df2e"
      },
      "outputs": [
        {
          "data": {
            "image/png": "[encoded data removed]",
            "text/plain": [
              "<Figure size 576x396 with 1 Axes>"
            ]
          },
          "metadata": {},
          "output_type": "display_data"
        }
      ],
      "source": [
        "plt.plot(historyreg.history['loss'])\n",
        "plt.plot(historyreg.history['val_loss'])\n",
        "plt.title('Model loss')\n",
        "plt.ylabel('Loss')\n",
        "plt.xlabel('Epoch')\n",
        "plt.legend(['train', 'val'], loc='upper right')\n",
        "plt.show()\n",
        "\n"
      ]
    },
    {
      "cell_type": "markdown",
      "metadata": {
        "id": "qUL4p02nb-Qx"
      },
      "source": [
        "the rate of train loss is decrease so this is good but there is no improve in validation.there is overfitting"
      ]
    },
    {
      "cell_type": "markdown",
      "metadata": {
        "id": "u2GvRA4__Xnf"
      },
      "source": [
        "#**5 ] Data Augmentation**"
      ]
    },
    {
      "cell_type": "markdown",
      "metadata": {
        "id": "UOjSQ93XcxuP"
      },
      "source": [
        "we generate sample of data with different feature with rotation, shift,zoom and flip"
      ]
    },
    {
      "cell_type": "code",
      "execution_count": null,
      "metadata": {
        "id": "ayKBsdjhZpe7"
      },
      "outputs": [],
      "source": [
        "training_datagen = ImageDataGenerator(\n",
        "\t    rotation_range=40,\n",
        "      width_shift_range=0.2,\n",
        "      height_shift_range=0.2,\n",
        "      shear_range=0.2,\n",
        "      zoom_range=0.2,\n",
        "      horizontal_flip=True,\n",
        "      fill_mode='nearest')\n",
        "\n",
        "training_datagen.fit(X_train)"
      ]
    },
    {
      "cell_type": "code",
      "execution_count": null,
      "metadata": {
        "id": "TEAGhQV5_gU2"
      },
      "outputs": [],
      "source": [
        "train_generator = training_datagen.flow(\n",
        "\ttrainx,y_train_k,\n",
        "  batch_size=16\n",
        ")"
      ]
    },
    {
      "cell_type": "code",
      "execution_count": null,
      "metadata": {
        "colab": {
          "base_uri": "https://localhost:8080/"
        },
        "id": "bZTQ3cJADohM",
        "outputId": "8a796854-dfd3-4b8a-825e-e62fd2abd95d"
      },
      "outputs": [
        {
          "name": "stdout",
          "output_type": "stream",
          "text": [
            "Epoch 1/50\n",
            "30/30 [==============================] - 7s 156ms/step - loss: 2.7082 - accuracy: 0.3333 - val_loss: 1.8188 - val_accuracy: 0.4056\n",
            "Epoch 2/50\n",
            "30/30 [==============================] - 3s 109ms/step - loss: 2.7530 - accuracy: 0.3235 - val_loss: 2.1282 - val_accuracy: 0.4167\n",
            "Epoch 3/50\n",
            "30/30 [==============================] - 3s 109ms/step - loss: 2.7957 - accuracy: 0.3361 - val_loss: 2.0053 - val_accuracy: 0.3806\n",
            "Epoch 4/50\n",
            "30/30 [==============================] - 4s 129ms/step - loss: 2.3174 - accuracy: 0.3938 - val_loss: 1.8858 - val_accuracy: 0.4167\n",
            "Epoch 5/50\n",
            "30/30 [==============================] - 3s 108ms/step - loss: 2.3786 - accuracy: 0.3782 - val_loss: 1.9090 - val_accuracy: 0.4056\n",
            "Epoch 6/50\n",
            "30/30 [==============================] - 3s 107ms/step - loss: 2.3501 - accuracy: 0.4013 - val_loss: 1.8416 - val_accuracy: 0.4028\n",
            "Epoch 7/50\n",
            "30/30 [==============================] - 4s 129ms/step - loss: 2.3671 - accuracy: 0.3958 - val_loss: 2.0535 - val_accuracy: 0.3806\n",
            "Epoch 8/50\n",
            "30/30 [==============================] - 4s 128ms/step - loss: 2.4837 - accuracy: 0.3667 - val_loss: 1.9299 - val_accuracy: 0.4028\n",
            "Epoch 9/50\n",
            "30/30 [==============================] - 3s 107ms/step - loss: 2.4160 - accuracy: 0.3739 - val_loss: 1.7711 - val_accuracy: 0.4472\n",
            "Epoch 10/50\n",
            "30/30 [==============================] - 4s 128ms/step - loss: 2.2816 - accuracy: 0.3971 - val_loss: 1.8596 - val_accuracy: 0.4528\n",
            "Epoch 11/50\n",
            "30/30 [==============================] - 3s 112ms/step - loss: 2.4563 - accuracy: 0.3708 - val_loss: 1.7730 - val_accuracy: 0.4306\n",
            "Epoch 12/50\n",
            "30/30 [==============================] - 3s 104ms/step - loss: 2.3460 - accuracy: 0.4118 - val_loss: 1.7546 - val_accuracy: 0.4306\n",
            "Epoch 13/50\n",
            "30/30 [==============================] - 3s 106ms/step - loss: 2.3821 - accuracy: 0.3761 - val_loss: 1.7406 - val_accuracy: 0.4472\n",
            "Epoch 14/50\n",
            "30/30 [==============================] - 4s 128ms/step - loss: 2.4157 - accuracy: 0.3655 - val_loss: 1.7095 - val_accuracy: 0.4778\n",
            "Epoch 15/50\n",
            "30/30 [==============================] - 4s 127ms/step - loss: 2.3662 - accuracy: 0.3887 - val_loss: 1.7018 - val_accuracy: 0.4806\n",
            "Epoch 16/50\n",
            "30/30 [==============================] - 4s 127ms/step - loss: 2.3958 - accuracy: 0.3739 - val_loss: 1.6848 - val_accuracy: 0.4778\n",
            "Epoch 17/50\n",
            "30/30 [==============================] - 4s 127ms/step - loss: 2.3110 - accuracy: 0.4055 - val_loss: 1.6573 - val_accuracy: 0.4889\n",
            "Epoch 18/50\n",
            "30/30 [==============================] - 3s 106ms/step - loss: 2.1623 - accuracy: 0.4181 - val_loss: 1.6843 - val_accuracy: 0.4667\n",
            "Epoch 19/50\n",
            "30/30 [==============================] - 3s 104ms/step - loss: 2.2160 - accuracy: 0.4307 - val_loss: 1.7371 - val_accuracy: 0.4472\n",
            "Epoch 20/50\n",
            "30/30 [==============================] - 3s 106ms/step - loss: 2.0627 - accuracy: 0.4118 - val_loss: 1.6817 - val_accuracy: 0.4750\n",
            "Epoch 21/50\n",
            "30/30 [==============================] - 4s 131ms/step - loss: 1.9979 - accuracy: 0.4265 - val_loss: 1.5819 - val_accuracy: 0.5111\n",
            "Epoch 22/50\n",
            "30/30 [==============================] - 4s 128ms/step - loss: 2.2969 - accuracy: 0.4349 - val_loss: 1.5698 - val_accuracy: 0.4917\n",
            "Epoch 23/50\n",
            "30/30 [==============================] - 4s 127ms/step - loss: 2.1852 - accuracy: 0.4076 - val_loss: 1.5821 - val_accuracy: 0.4833\n",
            "Epoch 24/50\n",
            "30/30 [==============================] - 3s 106ms/step - loss: 2.1441 - accuracy: 0.4454 - val_loss: 1.5792 - val_accuracy: 0.4806\n",
            "Epoch 25/50\n",
            "30/30 [==============================] - 3s 107ms/step - loss: 2.0284 - accuracy: 0.4454 - val_loss: 1.5486 - val_accuracy: 0.5056\n",
            "Epoch 26/50\n",
            "30/30 [==============================] - 3s 108ms/step - loss: 2.1266 - accuracy: 0.4349 - val_loss: 1.5350 - val_accuracy: 0.5222\n",
            "Epoch 27/50\n",
            "30/30 [==============================] - 3s 107ms/step - loss: 2.1506 - accuracy: 0.4244 - val_loss: 1.6078 - val_accuracy: 0.5167\n",
            "Epoch 28/50\n",
            "30/30 [==============================] - 3s 108ms/step - loss: 2.1162 - accuracy: 0.4202 - val_loss: 1.5514 - val_accuracy: 0.5361\n",
            "Epoch 29/50\n",
            "30/30 [==============================] - 4s 129ms/step - loss: 2.1475 - accuracy: 0.4223 - val_loss: 1.5308 - val_accuracy: 0.5222\n",
            "Epoch 30/50\n",
            "30/30 [==============================] - 3s 105ms/step - loss: 2.1306 - accuracy: 0.4265 - val_loss: 1.5599 - val_accuracy: 0.5111\n",
            "Epoch 31/50\n",
            "30/30 [==============================] - 4s 128ms/step - loss: 2.0767 - accuracy: 0.4202 - val_loss: 1.5351 - val_accuracy: 0.4806\n",
            "Epoch 32/50\n",
            "30/30 [==============================] - 4s 131ms/step - loss: 2.0883 - accuracy: 0.4370 - val_loss: 1.6272 - val_accuracy: 0.4889\n",
            "Epoch 33/50\n",
            "30/30 [==============================] - 3s 105ms/step - loss: 2.2704 - accuracy: 0.4454 - val_loss: 1.5863 - val_accuracy: 0.5028\n",
            "Epoch 34/50\n",
            "30/30 [==============================] - 3s 108ms/step - loss: 2.1455 - accuracy: 0.4454 - val_loss: 1.5097 - val_accuracy: 0.5083\n",
            "Epoch 35/50\n",
            "30/30 [==============================] - 4s 129ms/step - loss: 1.9029 - accuracy: 0.4604 - val_loss: 1.5191 - val_accuracy: 0.5056\n",
            "Epoch 36/50\n",
            "30/30 [==============================] - 3s 106ms/step - loss: 1.9947 - accuracy: 0.4454 - val_loss: 1.5023 - val_accuracy: 0.4944\n",
            "Epoch 37/50\n",
            "30/30 [==============================] - 3s 106ms/step - loss: 2.0296 - accuracy: 0.4895 - val_loss: 1.5106 - val_accuracy: 0.5083\n",
            "Epoch 38/50\n",
            "30/30 [==============================] - 3s 107ms/step - loss: 1.8932 - accuracy: 0.4601 - val_loss: 1.4886 - val_accuracy: 0.5028\n",
            "Epoch 39/50\n",
            "30/30 [==============================] - 4s 128ms/step - loss: 2.1481 - accuracy: 0.4292 - val_loss: 1.4789 - val_accuracy: 0.5167\n",
            "Epoch 40/50\n",
            "30/30 [==============================] - 3s 107ms/step - loss: 2.0181 - accuracy: 0.4454 - val_loss: 1.4520 - val_accuracy: 0.5306\n",
            "Epoch 41/50\n",
            "30/30 [==============================] - 3s 108ms/step - loss: 1.8724 - accuracy: 0.4833 - val_loss: 1.4827 - val_accuracy: 0.5444\n",
            "Epoch 42/50\n",
            "30/30 [==============================] - 3s 106ms/step - loss: 2.0332 - accuracy: 0.4454 - val_loss: 1.5032 - val_accuracy: 0.5389\n",
            "Epoch 43/50\n",
            "30/30 [==============================] - 4s 130ms/step - loss: 1.9337 - accuracy: 0.4244 - val_loss: 1.5129 - val_accuracy: 0.5083\n",
            "Epoch 44/50\n",
            "30/30 [==============================] - 4s 126ms/step - loss: 2.1012 - accuracy: 0.4433 - val_loss: 1.5153 - val_accuracy: 0.5111\n",
            "Epoch 45/50\n",
            "30/30 [==============================] - 3s 106ms/step - loss: 1.8806 - accuracy: 0.4769 - val_loss: 1.4694 - val_accuracy: 0.5250\n",
            "Epoch 46/50\n",
            "30/30 [==============================] - 3s 108ms/step - loss: 1.8437 - accuracy: 0.5105 - val_loss: 1.5177 - val_accuracy: 0.5139\n",
            "Epoch 47/50\n",
            "30/30 [==============================] - 3s 107ms/step - loss: 2.0361 - accuracy: 0.4664 - val_loss: 1.5513 - val_accuracy: 0.4972\n",
            "Epoch 48/50\n",
            "30/30 [==============================] - 3s 109ms/step - loss: 1.8151 - accuracy: 0.4727 - val_loss: 1.5473 - val_accuracy: 0.5194\n",
            "Epoch 49/50\n",
            "30/30 [==============================] - 4s 129ms/step - loss: 2.0273 - accuracy: 0.4604 - val_loss: 1.4522 - val_accuracy: 0.5194\n",
            "Epoch 50/50\n",
            "30/30 [==============================] - 3s 106ms/step - loss: 1.9101 - accuracy: 0.4727 - val_loss: 1.4977 - val_accuracy: 0.5194\n"
          ]
        }
      ],
      "source": [
        "modelaug = vgg_model_reg.fit(\n",
        "        train_generator,\n",
        "        steps_per_epoch=30 ,\n",
        "        epochs=50,\n",
        "        validation_data=(valx, y_val_k),\n",
        "        validation_steps=30 )\n",
        "# model.save_weights('first_try.h5')"
      ]
    },
    {
      "cell_type": "code",
      "execution_count": null,
      "metadata": {
        "colab": {
          "base_uri": "https://localhost:8080/",
          "height": 744
        },
        "id": "22_p0SAHGHCW",
        "outputId": "d23ab35c-44e7-447b-d1d0-9b4f1bdf5b55"
      },
      "outputs": [
        {
          "name": "stdout",
          "output_type": "stream",
          "text": [
            "              precision    recall  f1-score   support\n",
            "\n",
            "           0       0.50      0.50      0.50        20\n",
            "           1       0.56      0.50      0.53        20\n",
            "           2       0.33      0.25      0.29        20\n",
            "           3       0.41      0.35      0.38        20\n",
            "           4       0.47      0.70      0.56        20\n",
            "\n",
            "    accuracy                           0.46       100\n",
            "   macro avg       0.45      0.46      0.45       100\n",
            "weighted avg       0.45      0.46      0.45       100\n",
            "\n",
            "\n",
            " Confusion matrix: \n",
            "\n",
            "[[10  2  5  1  2]\n",
            " [ 5 10  4  0  1]\n",
            " [ 3  4  5  5  3]\n",
            " [ 2  1  0  7 10]\n",
            " [ 0  1  1  4 14]]\n",
            "\n",
            "\n"
          ]
        },
        {
          "data": {
            "image/png": "[encoded data removed]",
            "text/plain": [
              "<Figure size 576x396 with 2 Axes>"
            ]
          },
          "metadata": {},
          "output_type": "display_data"
        }
      ],
      "source": [
        "y_predict_aug = vgg_model_reg.predict(X_test)\n",
        "y_predictaug = y_predict_aug.argmax(axis=-1)\n",
        "print(classification_report(Y_test, y_predictaug))\n",
        "conf_mxaug = confusion_matrix(Y_test, y_predictaug)\n",
        "print('\\n Confusion matrix: \\n\\n{0}'.format(conf_mxaug))\n",
        "print('\\n')\n",
        "hm = sns.heatmap(conf_mxreg, annot = True)\n",
        "\n",
        "hm.set(title = \"Confusion matrix of test data\\n\")\n",
        "\n",
        "plt.show()"
      ]
    },
    {
      "cell_type": "markdown",
      "metadata": {
        "id": "YaMJJQhQdK9e"
      },
      "source": [
        "the accuracy is improved with augmentation and reached to 46%"
      ]
    },
    {
      "cell_type": "code",
      "execution_count": null,
      "metadata": {
        "colab": {
          "base_uri": "https://localhost:8080/",
          "height": 744
        },
        "id": "GL0fxclTJHK0",
        "outputId": "345fae9b-60e9-4ea3-c3e9-8ebb5013b724"
      },
      "outputs": [
        {
          "name": "stdout",
          "output_type": "stream",
          "text": [
            "              precision    recall  f1-score   support\n",
            "\n",
            "           0       0.98      0.95      0.97       108\n",
            "           1       0.98      0.97      0.98       108\n",
            "           2       0.96      0.92      0.94       108\n",
            "           3       0.97      0.90      0.93       108\n",
            "           4       0.86      1.00      0.93       108\n",
            "\n",
            "    accuracy                           0.95       540\n",
            "   macro avg       0.95      0.95      0.95       540\n",
            "weighted avg       0.95      0.95      0.95       540\n",
            "\n",
            "\n",
            " Confusion matrix: \n",
            "\n",
            "[[103   2   2   0   1]\n",
            " [  0 105   0   0   3]\n",
            " [  1   0  99   3   5]\n",
            " [  1   0   2  97   8]\n",
            " [  0   0   0   0 108]]\n",
            "\n",
            "\n"
          ]
        },
        {
          "data": {
            "image/png": "[encoded data removed]",
            "text/plain": [
              "<Figure size 576x396 with 2 Axes>"
            ]
          },
          "metadata": {},
          "output_type": "display_data"
        }
      ],
      "source": [
        "trainy_predict_aug = vgg_model_reg.predict(trainx)\n",
        "trainy_predictaug = trainy_predict_aug.argmax(axis=-1)\n",
        "print(classification_report(trainy, trainy_predictaug))\n",
        "trainconf_mxaug = confusion_matrix(trainy, trainy_predictaug)\n",
        "print('\\n Confusion matrix: \\n\\n{0}'.format(trainconf_mxaug))\n",
        "print('\\n')\n",
        "hm = sns.heatmap(conf_mxreg, annot = True)\n",
        "\n",
        "hm.set(title = \"Confusion matrix of test data\\n\")\n",
        "\n",
        "plt.show()"
      ]
    },
    {
      "cell_type": "code",
      "execution_count": null,
      "metadata": {
        "colab": {
          "base_uri": "https://localhost:8080/",
          "height": 744
        },
        "id": "9nXFEJhbP57G",
        "outputId": "fc331a65-8e93-46f1-a6aa-e829122f40b2"
      },
      "outputs": [
        {
          "name": "stdout",
          "output_type": "stream",
          "text": [
            "              precision    recall  f1-score   support\n",
            "\n",
            "           0       0.68      0.71      0.69        72\n",
            "           1       0.51      0.43      0.47        72\n",
            "           2       0.44      0.40      0.42        72\n",
            "           3       0.36      0.28      0.31        72\n",
            "           4       0.54      0.78      0.64        72\n",
            "\n",
            "    accuracy                           0.52       360\n",
            "   macro avg       0.51      0.52      0.51       360\n",
            "weighted avg       0.51      0.52      0.51       360\n",
            "\n",
            "\n",
            " Confusion matrix: \n",
            "\n",
            "[[51  7 10  0  4]\n",
            " [13 31 14 11  3]\n",
            " [ 6 11 29 16 10]\n",
            " [ 3 10  9 20 30]\n",
            " [ 2  2  4  8 56]]\n",
            "\n",
            "\n"
          ]
        },
        {
          "data": {
            "image/png": "[encoded data removed]",
            "text/plain": [
              "<Figure size 576x396 with 2 Axes>"
            ]
          },
          "metadata": {},
          "output_type": "display_data"
        }
      ],
      "source": [
        "valy_predict_aug = vgg_model_reg.predict(valx)\n",
        "valy_predictaug = valy_predict_aug.argmax(axis=-1)\n",
        "print(classification_report(valy, valy_predictaug))\n",
        "valconf_mxaug = confusion_matrix(valy, valy_predictaug)\n",
        "print('\\n Confusion matrix: \\n\\n{0}'.format(valconf_mxaug))\n",
        "print('\\n')\n",
        "hm = sns.heatmap(conf_mxreg, annot = True)\n",
        "\n",
        "hm.set(title = \"Confusion matrix of test data\\n\")\n",
        "\n",
        "plt.show()"
      ]
    },
    {
      "cell_type": "code",
      "execution_count": null,
      "metadata": {
        "colab": {
          "base_uri": "https://localhost:8080/",
          "height": 376
        },
        "id": "wmJuSUWBQQNs",
        "outputId": "e8ff9a84-6985-49a4-8d1f-2e989cf7f7d6"
      },
      "outputs": [
        {
          "data": {
            "image/png": "[encoded data removed]",
            "text/plain": [
              "<Figure size 576x396 with 1 Axes>"
            ]
          },
          "metadata": {},
          "output_type": "display_data"
        }
      ],
      "source": [
        "# dictionary keys seems to have changed in version 2\n",
        "k = ''\n",
        "if 'accuracy' in modelaug.history :\n",
        "    k = 'accuracy'    \n",
        "\n",
        "if 'acc' in modelaug.history :\n",
        "    k = 'acc'\n",
        "    \n",
        "if k != '' :    \n",
        "    plt.plot(modelaug.history[k])\n",
        "    plt.plot(modelaug.history['val_'+k])\n",
        "    plt.title('Model Accuracy')\n",
        "    plt.ylabel('Accuracy')\n",
        "    plt.xlabel('Epoch')\n",
        "    plt.legend(['train', 'val'], loc='upper left')\n",
        "    plt.show()\n"
      ]
    },
    {
      "cell_type": "markdown",
      "metadata": {
        "id": "eWBIZlaLdfh4"
      },
      "source": [
        "when we increase data the model can fit and the gap between two curves is decrease and the model consider no overfit and if we increase number of epoch the model will more train and give high accuracy.\n",
        " "
      ]
    },
    {
      "cell_type": "code",
      "execution_count": null,
      "metadata": {
        "colab": {
          "base_uri": "https://localhost:8080/",
          "height": 376
        },
        "id": "wwAoFewqQdNb",
        "outputId": "55b760b0-1278-4ae3-b76f-9082b2e2b165"
      },
      "outputs": [
        {
          "data": {
            "image/png": "[encoded data removed]",
            "text/plain": [
              "<Figure size 576x396 with 1 Axes>"
            ]
          },
          "metadata": {},
          "output_type": "display_data"
        }
      ],
      "source": [
        "plt.plot(modelaug.history['loss'])\n",
        "plt.plot(modelaug.history['val_loss'])\n",
        "plt.title('Model loss')\n",
        "plt.ylabel('Loss')\n",
        "plt.xlabel('Epoch')\n",
        "plt.legend(['train', 'val'], loc='upper right')\n",
        "plt.show()\n"
      ]
    },
    {
      "cell_type": "markdown",
      "metadata": {
        "id": "qNUJz2MUfwcZ"
      },
      "source": [
        "the loss is decrease but still not reach to the minimun loss but it is still change with more epoch and this is good. "
      ]
    },
    {
      "cell_type": "markdown",
      "metadata": {
        "id": "CUJOxQd9eHmU"
      },
      "source": [
        "## 5.1 Discussion"
      ]
    },
    {
      "cell_type": "markdown",
      "metadata": {
        "id": "HBszfr4ieKxK"
      },
      "source": [
        "when we use just regularization the model improved but still give overfit \n",
        "but when we use augmentation after regularization the model is good improved.\n",
        "\n",
        "I think because I increase number of training data  set with appling different method to generate new images.the model can detect correctly the patern of the image and improve when I increase number of epoch.\n",
        "\n",
        "and you can see the comment after each figer."
      ]
    },
    {
      "cell_type": "code",
      "execution_count": null,
      "metadata": {
        "id": "syMdvNmTflhF"
      },
      "outputs": [],
      "source": []
    }
  ],
  "metadata": {
    "accelerator": "GPU",
    "colab": {
      "collapsed_sections": [],
      "provenance": []
    },
    "kernelspec": {
      "display_name": "Python 3.9.10 64-bit",
      "language": "python",
      "name": "python3"
    },
    "language_info": {
      "codemirror_mode": {
        "name": "ipython",
        "version": 3
      },
      "file_extension": ".py",
      "mimetype": "text/x-python",
      "name": "python",
      "nbconvert_exporter": "python",
      "pygments_lexer": "ipython3",
      "version": "3.9.10"
    },
    "nav_menu": {},
    "toc": {
      "navigate_menu": true,
      "number_sections": true,
      "sideBar": true,
      "threshold": 6,
      "toc_cell": false,
      "toc_section_display": "block",
      "toc_window_display": false
    },
    "vscode": {
      "interpreter": {
        "hash": "a81e059882249d28a6872e10bac14be355e15ec7b5225fef5577490791d3b0ef"
      }
    }
  },
  "nbformat": 4,
  "nbformat_minor": 0
}